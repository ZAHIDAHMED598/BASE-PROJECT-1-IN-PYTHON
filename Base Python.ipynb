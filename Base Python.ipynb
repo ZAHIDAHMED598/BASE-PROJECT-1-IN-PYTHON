{
 "cells": [
  {
   "cell_type": "markdown",
   "id": "20eeaf91-55c4-4d1c-9290-1f58737d608d",
   "metadata": {},
   "source": [
    "**VARIABLES**"
   ]
  },
  {
   "cell_type": "markdown",
   "id": "1bbd3b23-af18-4576-8299-b63fe7b8990e",
   "metadata": {},
   "source": [
    "Variables are the names given to the memory Location.\n",
    "It Stores Only One Values."
   ]
  },
  {
   "cell_type": "code",
   "execution_count": 6,
   "id": "693dd3be-63dc-438e-9144-fbdaa1cdfa3b",
   "metadata": {},
   "outputs": [
    {
     "name": "stdout",
     "output_type": "stream",
     "text": [
      "Zahid Is My Name\n"
     ]
    }
   ],
   "source": [
    "String=\"Zahid Is My Name\"\n",
    "print(String)         #IT PRINTS THE STRING VARIABLE"
   ]
  },
  {
   "cell_type": "code",
   "execution_count": 8,
   "id": "b7842a46-9975-4cbf-8d5c-a8d6479ad8ad",
   "metadata": {},
   "outputs": [
    {
     "name": "stdout",
     "output_type": "stream",
     "text": [
      "8892512946\n"
     ]
    }
   ],
   "source": [
    "Int=8892512946\n",
    "print(Int)            #IT PRINTS THE INT VARIABLE"
   ]
  },
  {
   "cell_type": "code",
   "execution_count": 10,
   "id": "bfc1b34d-b30e-4cc5-8085-e78335e11963",
   "metadata": {},
   "outputs": [
    {
     "name": "stdout",
     "output_type": "stream",
     "text": [
      "(1, 3)\n"
     ]
    }
   ],
   "source": [
    "Value=1,3\n",
    "print(Value)          #IT PRINTS THE VALUE VARIABLE"
   ]
  },
  {
   "cell_type": "code",
   "execution_count": 12,
   "id": "0b7b76d6-098c-46bb-b67c-2f01d21b0cf1",
   "metadata": {},
   "outputs": [
    {
     "name": "stdout",
     "output_type": "stream",
     "text": [
      "('Zahid', 'Ahmed')\n"
     ]
    }
   ],
   "source": [
    "Value1=\"Zahid\",\"Ahmed\"\n",
    "print(Value1)     #ITS A TUPLE,SINCE IT STORES MULTIPLE VALUES"
   ]
  },
  {
   "cell_type": "code",
   "execution_count": 14,
   "id": "38d5d1f6-4962-45b3-9144-04fa5329ab7c",
   "metadata": {},
   "outputs": [
    {
     "name": "stdout",
     "output_type": "stream",
     "text": [
      "11\n"
     ]
    }
   ],
   "source": [
    "a=5\n",
    "b=6\n",
    "print(a+b)         #ADDING 2 INTEGERS"
   ]
  },
  {
   "cell_type": "code",
   "execution_count": 16,
   "id": "a90a2d54-9b32-4443-bd27-4e0a03d353c7",
   "metadata": {},
   "outputs": [
    {
     "name": "stdout",
     "output_type": "stream",
     "text": [
      "30\n"
     ]
    }
   ],
   "source": [
    "print(a*b)         #IT PRINTS THE PRODUCT OF a AND b VARIABLES"
   ]
  },
  {
   "cell_type": "code",
   "execution_count": 18,
   "id": "a36c5008-e1b0-4bd1-9fa6-8c4a6906b498",
   "metadata": {},
   "outputs": [
    {
     "ename": "NameError",
     "evalue": "name 'A' is not defined",
     "output_type": "error",
     "traceback": [
      "\u001b[1;31m---------------------------------------------------------------------------\u001b[0m",
      "\u001b[1;31mNameError\u001b[0m                                 Traceback (most recent call last)",
      "Cell \u001b[1;32mIn[18], line 1\u001b[0m\n\u001b[1;32m----> 1\u001b[0m \u001b[38;5;28mprint\u001b[39m(A\u001b[38;5;241m+\u001b[39mb)\n",
      "\u001b[1;31mNameError\u001b[0m: name 'A' is not defined"
     ]
    }
   ],
   "source": [
    "print(A+b)   #Since Python is Case Sensitive,\n",
    "             #So The variables should be defined properly"
   ]
  },
  {
   "cell_type": "code",
   "execution_count": 20,
   "id": "a396960f-5c97-45e3-9ce2-6d79de7f5b38",
   "metadata": {},
   "outputs": [
    {
     "name": "stdout",
     "output_type": "stream",
     "text": [
      "ZAHIDAHMED\n"
     ]
    }
   ],
   "source": [
    "a=\"ZAHID\"\n",
    "b=\"AHMED\"\n",
    "print(a+b)               #CONCATENATION OF 2 STRINGS"
   ]
  },
  {
   "cell_type": "code",
   "execution_count": 22,
   "id": "b03b305c-f905-46e3-8e73-7212cc2276d5",
   "metadata": {},
   "outputs": [
    {
     "name": "stdout",
     "output_type": "stream",
     "text": [
      "ZAHIDZAHID\n"
     ]
    }
   ],
   "source": [
    "a=\"ZAHID\"\n",
    "b=\"ZAHID\"\n",
    "print(a+b)              #CONCATENATION OF 2 STRINGS"
   ]
  },
  {
   "cell_type": "code",
   "execution_count": 13,
   "id": "3c490030-6aee-4afa-ae93-795c06a2bb04",
   "metadata": {},
   "outputs": [
    {
     "name": "stdout",
     "output_type": "stream",
     "text": [
      "ZAHID 30 8892512946\n"
     ]
    }
   ],
   "source": [
    "Name,age,phone_no=\"ZAHID\",30,8892512946\n",
    "print(Name,age,phone_no)                      #EXAMPLE OF MULTIPLE ASSIGNMENT VARIABLES"
   ]
  },
  {
   "cell_type": "code",
   "execution_count": 26,
   "id": "9e7bd146-ce89-4156-bec2-1c2f7e8a6e6e",
   "metadata": {},
   "outputs": [
    {
     "name": "stdout",
     "output_type": "stream",
     "text": [
      "AHMED\n"
     ]
    }
   ],
   "source": [
    "a=\"ZAHID\"\n",
    "a=\"AHMED\"              #DYNAMIC TYPING EXAMPLE\n",
    "print(a)               #NEW VALUE WILL OVERWRITE THE OLD VALUE IN THE SAME VARIABLE"
   ]
  },
  {
   "cell_type": "code",
   "execution_count": 1,
   "id": "1dac4aaf-30ae-401f-a993-eede655b5ca3",
   "metadata": {},
   "outputs": [
    {
     "name": "stdout",
     "output_type": "stream",
     "text": [
      "200\n"
     ]
    }
   ],
   "source": [
    "'''WRITE A PROGRAM TO FIND THE AREA OF RECTANGLE GIVEN THAT ITS\n",
    "LENGTH IS 10 UNITS AND BREADTH IS 20 UNITS.'''\n",
    "Length=10\n",
    "Breadth=20\n",
    "Area=Length*Breadth\n",
    "print(Area)"
   ]
  },
  {
   "cell_type": "code",
   "execution_count": 9,
   "id": "cd61e109-e7a3-4a01-9433-2b5c2f09f284",
   "metadata": {},
   "outputs": [
    {
     "name": "stdout",
     "output_type": "stream",
     "text": [
      "Zahid 30 Male Lecturer Married Zainab Amber 1\n"
     ]
    }
   ],
   "source": [
    "#Write a program to display values of variables in python\n",
    "Name=\"Zahid\"\n",
    "Age=30\n",
    "Gender='Male'\n",
    "Profession=\"Lecturer\"\n",
    "Status='''Married'''\n",
    "Wife=\"Zainab Amber\"\n",
    "Children=1\n",
    "print(Name, Age,Gender,Profession,Status,Wife,Children)\n"
   ]
  },
  {
   "cell_type": "code",
   "execution_count": 15,
   "id": "d9e46e44-20c3-499c-b23d-dc4fb7141c23",
   "metadata": {},
   "outputs": [
    {
     "name": "stdout",
     "output_type": "stream",
     "text": [
      "Self Introduction\n",
      "I am Zahid And I am  30 years old\n",
      "I am  Male And I am a  Lecturer\n",
      "I am  Married . My Wife's Name is Zainab Amber And I have 1 Child\n"
     ]
    }
   ],
   "source": [
    "print(\"Self Introduction\")\n",
    "print(\"I am\",Name,\"And I am \",Age,\"years old\")\n",
    "print(\"I am \",Gender,\"And I am a \",Profession)\n",
    "print(\"I am \",Status,\".\",\"My Wife's Name is\",Wife,\"And I have\",Children,\"Child\")"
   ]
  },
  {
   "cell_type": "markdown",
   "id": "82ea46b8-140c-4566-9509-ae94471641f1",
   "metadata": {},
   "source": [
    "**IDENTIFIERS**"
   ]
  },
  {
   "cell_type": "markdown",
   "id": "27ec0184-5183-4f24-bf70-8341305e8d05",
   "metadata": {},
   "source": [
    "An Identifiers are the names which is used to identify variables,objects,classes or any other Entities defined by the programmer.\n",
    "Rules For Identifiers\n",
    "1.An Identifier Must begin Either with Upper case Letters or Lower Case Letters Or Underscore(_)sign.It Should Not Begin With Numbers.\n",
    "2.An Identifier Should not be Keywords.\n",
    "3.An Identifier Can be of Any Length.(However It Is Prefered to keep in short and Meaningfull.)\n",
    "4.An Identifier Should Not Begin with special symbols like !,@,#,$,% etc"
   ]
  },
  {
   "cell_type": "code",
   "execution_count": 25,
   "id": "257628d2-63d3-45bd-a6ec-3dd255253b64",
   "metadata": {},
   "outputs": [
    {
     "name": "stdout",
     "output_type": "stream",
     "text": [
      "Sum Of 2 Numbers is 15\n"
     ]
    }
   ],
   "source": [
    "#WRITE A PYTHON PROGRAM TO FIND THE SUM OF TWO NUMBERS\n",
    "A=5\n",
    "B=10\n",
    "SUM=A+B\n",
    "print(\"Sum Of 2 Numbers is\",SUM)"
   ]
  },
  {
   "cell_type": "markdown",
   "id": "cf6d966e-775e-4295-9611-7c755f245b17",
   "metadata": {},
   "source": [
    "**DATA TYPES**"
   ]
  },
  {
   "cell_type": "code",
   "execution_count": null,
   "id": "66bdd9ff-c695-42f8-8da8-495b2c009bb0",
   "metadata": {},
   "outputs": [],
   "source": [
    "#THERE ARE 4 MAIN TYPES OF DATA TYPES\n",
    "1.STRING-\"ZAHID\",\"AHMED\"\n",
    "2.INT-88,92,\n",
    "3.FLOAT-98.3,96.5\n",
    "4.BOOLEAN-TRUE,FALSE\n",
    "\n",
    "type()-GIVES THE TYPE OF THE VARIABLE OR A DATA STRUCTURE\n",
    "PRINT()-IT DISPLAYS THE RESULT"
   ]
  },
  {
   "cell_type": "code",
   "execution_count": 27,
   "id": "58709560-8ba2-447c-88f8-c1629f472793",
   "metadata": {},
   "outputs": [
    {
     "data": {
      "text/plain": [
       "float"
      ]
     },
     "execution_count": 27,
     "metadata": {},
     "output_type": "execute_result"
    }
   ],
   "source": [
    "A=77\n",
    "B=\"MOHAMMED\"\n",
    "C=\"AASIM\"\n",
    "D=98.55\n",
    "E=67.\n",
    "F='SUHAIB'\n",
    "G=('ASDF')\n",
    "type(A)\n",
    "type(C)\n",
    "type(D)\n"
   ]
  },
  {
   "cell_type": "code",
   "execution_count": 49,
   "id": "955f2b1b-0044-48cd-8906-c4d99ac780ae",
   "metadata": {},
   "outputs": [
    {
     "name": "stdout",
     "output_type": "stream",
     "text": [
      "77\n"
     ]
    }
   ],
   "source": [
    "print(A)"
   ]
  },
  {
   "cell_type": "code",
   "execution_count": 81,
   "id": "7c710a30-1a4e-41f9-9072-825187085fff",
   "metadata": {},
   "outputs": [
    {
     "name": "stdout",
     "output_type": "stream",
     "text": [
      "10\n",
      "6.9\n",
      "(4+2j)\n",
      "<class 'int'>\n",
      "1929909034544\n",
      "<class 'complex'>\n",
      "28\n"
     ]
    }
   ],
   "source": [
    "#Demo Of Numeric Data Types\n",
    "import sys\n",
    "num_int=10\n",
    "num_float=6.9\n",
    "num_complex=4+2j\n",
    "print(num_int)\n",
    "print(num_float)\n",
    "print(num_complex)\n",
    "print(type(num_int))\n",
    "print(id(num_float))\n",
    "print(type(num_complex))\n",
    "print(sys.getsizeof(num_int))"
   ]
  },
  {
   "cell_type": "code",
   "execution_count": 87,
   "id": "32603fd1-5a43-4501-9828-6f3ed666d071",
   "metadata": {},
   "outputs": [
    {
     "name": "stdout",
     "output_type": "stream",
     "text": [
      "28\n",
      "24\n",
      "32\n",
      "10 isinteger? True\n"
     ]
    }
   ],
   "source": [
    "import sys\n",
    "print(sys.getsizeof(num_int))\n",
    "print(sys.getsizeof(num_float))\n",
    "print(sys.getsizeof(num_complex))\n",
    "print(num_int,\"isinteger?\",isinstance(num_int,int))"
   ]
  },
  {
   "cell_type": "markdown",
   "id": "f83c7f18-e392-4344-bd78-2b3d17a436d9",
   "metadata": {},
   "source": [
    "**MUTABLE DATA TYPES**"
   ]
  },
  {
   "cell_type": "markdown",
   "id": "791fcbae-7021-4549-baf5-fcdba6f80119",
   "metadata": {},
   "source": [
    "**Type function**-determines the data type of the object"
   ]
  },
  {
   "cell_type": "code",
   "execution_count": 51,
   "id": "ffe4e13b-1392-4047-be7d-c94ffb622d88",
   "metadata": {},
   "outputs": [
    {
     "data": {
      "text/plain": [
       "str"
      ]
     },
     "execution_count": 51,
     "metadata": {},
     "output_type": "execute_result"
    }
   ],
   "source": [
    "type(B)"
   ]
  },
  {
   "cell_type": "code",
   "execution_count": 53,
   "id": "cb7d71b7-fdc3-4b71-9e52-c67c4d8c3f31",
   "metadata": {},
   "outputs": [
    {
     "data": {
      "text/plain": [
       "str"
      ]
     },
     "execution_count": 53,
     "metadata": {},
     "output_type": "execute_result"
    }
   ],
   "source": [
    "type(F)"
   ]
  },
  {
   "cell_type": "code",
   "execution_count": 55,
   "id": "a8f5ce67-3b57-4f13-9952-cb0f409dd460",
   "metadata": {},
   "outputs": [
    {
     "data": {
      "text/plain": [
       "str"
      ]
     },
     "execution_count": 55,
     "metadata": {},
     "output_type": "execute_result"
    }
   ],
   "source": [
    "type(G)"
   ]
  },
  {
   "cell_type": "code",
   "execution_count": 59,
   "id": "c514e73c-68b4-4885-a9e3-7cc28826fd24",
   "metadata": {},
   "outputs": [
    {
     "data": {
      "text/plain": [
       "str"
      ]
     },
     "execution_count": 59,
     "metadata": {},
     "output_type": "execute_result"
    }
   ],
   "source": [
    "type(E)"
   ]
  },
  {
   "cell_type": "code",
   "execution_count": 61,
   "id": "cd08f21c-6327-4766-a966-ad6189b55427",
   "metadata": {},
   "outputs": [
    {
     "data": {
      "text/plain": [
       "float"
      ]
     },
     "execution_count": 61,
     "metadata": {},
     "output_type": "execute_result"
    }
   ],
   "source": [
    "T=8.\n",
    "type(T)"
   ]
  },
  {
   "cell_type": "code",
   "execution_count": 65,
   "id": "54720506-1f7c-43a6-a696-3f3d631eb937",
   "metadata": {},
   "outputs": [
    {
     "data": {
      "text/plain": [
       "tuple"
      ]
     },
     "execution_count": 65,
     "metadata": {},
     "output_type": "execute_result"
    }
   ],
   "source": [
    "g=\"y\",   #if comma appears then python assumes that the user can store more values in future\n",
    "type(g)"
   ]
  },
  {
   "cell_type": "code",
   "execution_count": 67,
   "id": "bddd28f4-97fa-4ba1-9983-ff7d83746bd0",
   "metadata": {},
   "outputs": [
    {
     "data": {
      "text/plain": [
       "tuple"
      ]
     },
     "execution_count": 67,
     "metadata": {},
     "output_type": "execute_result"
    }
   ],
   "source": [
    "g=\"y\",\"a\"\n",
    "type(g)"
   ]
  },
  {
   "cell_type": "markdown",
   "id": "da8da4a6-e17a-4988-9439-2f01e2ad7642",
   "metadata": {},
   "source": [
    "**PRINT**-function prints the value of the object"
   ]
  },
  {
   "cell_type": "code",
   "execution_count": 69,
   "id": "72f8a565-1bd3-4bc9-a875-bd79137091cf",
   "metadata": {},
   "outputs": [
    {
     "name": "stdout",
     "output_type": "stream",
     "text": [
      "AHMED\n"
     ]
    }
   ],
   "source": [
    "h=(a)\n",
    "print(h)"
   ]
  },
  {
   "cell_type": "code",
   "execution_count": 2,
   "id": "82a93a4c-1d6e-4877-ad14-628c59d7e961",
   "metadata": {},
   "outputs": [
    {
     "data": {
      "text/plain": [
       "int"
      ]
     },
     "execution_count": 2,
     "metadata": {},
     "output_type": "execute_result"
    }
   ],
   "source": [
    "a=55\n",
    "type(a)"
   ]
  },
  {
   "cell_type": "markdown",
   "id": "efa956a9-d93e-45ca-8dc0-8ad9488b084b",
   "metadata": {},
   "source": [
    "**ID**-This Function gives the Identification or Memory Address of the object"
   ]
  },
  {
   "cell_type": "code",
   "execution_count": 31,
   "id": "101f6420-487a-46d5-8fc6-bcd6312a0b9c",
   "metadata": {},
   "outputs": [
    {
     "data": {
      "text/plain": [
       "1929884922864"
      ]
     },
     "execution_count": 31,
     "metadata": {},
     "output_type": "execute_result"
    }
   ],
   "source": [
    "id(a)"
   ]
  },
  {
   "cell_type": "code",
   "execution_count": 37,
   "id": "f8736d01-029c-4d3b-bbd4-a64f91d0f8de",
   "metadata": {},
   "outputs": [
    {
     "name": "stdout",
     "output_type": "stream",
     "text": [
      "1929884922864\n"
     ]
    }
   ],
   "source": [
    "print(id(a))"
   ]
  },
  {
   "cell_type": "code",
   "execution_count": 61,
   "id": "85f2a089-4704-4037-8c21-446eaba794c1",
   "metadata": {},
   "outputs": [
    {
     "name": "stdout",
     "output_type": "stream",
     "text": [
      "140721263885016\n",
      "<class 'int'>\n"
     ]
    }
   ],
   "source": [
    "val=10\n",
    "print(id(val))\n",
    "print(type(val))"
   ]
  },
  {
   "cell_type": "code",
   "execution_count": null,
   "id": "b33e28ab-551f-4a34-adb7-7d5c93c88882",
   "metadata": {},
   "outputs": [],
   "source": []
  },
  {
   "cell_type": "markdown",
   "id": "05595e59-feb0-4b50-b67e-3d3bcb00e30f",
   "metadata": {},
   "source": [
    "**INPUT**-This Function Accepts The data Values from the user and By default returns a string."
   ]
  },
  {
   "cell_type": "code",
   "execution_count": 45,
   "id": "6ef9fa0b-74a9-49d6-b893-1cb38b0dd8ed",
   "metadata": {},
   "outputs": [
    {
     "name": "stdin",
     "output_type": "stream",
     "text": [
      "Enter Your Age: 30\n"
     ]
    },
    {
     "name": "stdout",
     "output_type": "stream",
     "text": [
      "YOUR AGE IS: 30\n"
     ]
    }
   ],
   "source": [
    "AGE=input(\"Enter Your Age:\")\n",
    "print(\"YOUR AGE IS:\", AGE)"
   ]
  },
  {
   "cell_type": "code",
   "execution_count": 49,
   "id": "0bfc1e65-a0b7-4a42-9b3f-b396e6fb1e54",
   "metadata": {},
   "outputs": [
    {
     "name": "stdin",
     "output_type": "stream",
     "text": [
      "Enter your FA1 Marks: 78\n"
     ]
    },
    {
     "name": "stdout",
     "output_type": "stream",
     "text": [
      "FA1 Marks is: 78\n"
     ]
    }
   ],
   "source": [
    "MARKS=int(input(\"Enter your FA1 Marks:\"))\n",
    "print(\"FA1 Marks is:\", MARKS)"
   ]
  },
  {
   "cell_type": "code",
   "execution_count": 55,
   "id": "3a157039-05ea-4ed1-8770-fe3dc58a99ce",
   "metadata": {},
   "outputs": [
    {
     "name": "stdin",
     "output_type": "stream",
     "text": [
      "what is your name ZAHID AHMED\n"
     ]
    },
    {
     "name": "stdout",
     "output_type": "stream",
     "text": [
      "My Name is  ZAHID AHMED\n"
     ]
    }
   ],
   "source": [
    "name=str(input(\"what is your name\"))\n",
    "print(\"My Name is \",name)"
   ]
  },
  {
   "cell_type": "code",
   "execution_count": 57,
   "id": "7d214ab6-6a2a-4090-b2d1-720b9c6a9b3f",
   "metadata": {},
   "outputs": [
    {
     "name": "stdin",
     "output_type": "stream",
     "text": [
      "PLEASE TELL UR MONTHLY SALARY 667.87\n"
     ]
    },
    {
     "name": "stdout",
     "output_type": "stream",
     "text": [
      "Salary is: 667.87\n"
     ]
    }
   ],
   "source": [
    "Salary=float(input(\"PLEASE TELL UR MONTHLY SALARY\"))\n",
    "print(\"Salary is:\",Salary)"
   ]
  },
  {
   "cell_type": "markdown",
   "id": "b3ca250f-b30b-4631-a95e-9afac320037f",
   "metadata": {},
   "source": [
    "**TYPE CASTING**"
   ]
  },
  {
   "cell_type": "markdown",
   "id": "08793278-c1db-45ab-80de-6d7069413058",
   "metadata": {},
   "source": [
    "**TYPE CASTING**-IT CONVERTS ONE DATATYPE TO OTHER DATATYPE\n",
    "some type casting functions are\n",
    "1.int\n",
    "2.float\n",
    "3.str\n",
    "4.bool\n",
    "5.list\n",
    "6.tuple\n",
    "7.set"
   ]
  },
  {
   "cell_type": "code",
   "execution_count": 90,
   "id": "f05884a6-8cd8-488e-86be-7b45ba6b031b",
   "metadata": {},
   "outputs": [
    {
     "data": {
      "text/plain": [
       "float"
      ]
     },
     "execution_count": 90,
     "metadata": {},
     "output_type": "execute_result"
    }
   ],
   "source": [
    "#1.Convert Integer Data Type to Float Data Type\n",
    "b=10\n",
    "type(b)\n",
    "a1=float(b)               #Before it was integer datatype\n",
    "type(a)                   #After Type Casting,It is converted to Float."
   ]
  },
  {
   "cell_type": "code",
   "execution_count": 92,
   "id": "429360c4-e499-4fa5-9ad5-b7884ac30e2f",
   "metadata": {},
   "outputs": [
    {
     "name": "stdout",
     "output_type": "stream",
     "text": [
      "2.0\n"
     ]
    }
   ],
   "source": [
    "#2.Convert Integer Data Type to Float Data Type\n",
    "a=2\n",
    "a=float(a)\n",
    "print(a)"
   ]
  },
  {
   "cell_type": "code",
   "execution_count": 94,
   "id": "940e2950-c28a-437e-8c22-6b8e31a3d5b8",
   "metadata": {},
   "outputs": [
    {
     "name": "stdout",
     "output_type": "stream",
     "text": [
      "2\n"
     ]
    }
   ],
   "source": [
    "#3.Convert Float Data Type to integer Data Type\n",
    "b=2.5\n",
    "new_value=int(b)\n",
    "print(new_value)"
   ]
  },
  {
   "cell_type": "code",
   "execution_count": 98,
   "id": "91a4e969-b285-408e-9ccd-4d6f5a3278cb",
   "metadata": {},
   "outputs": [
    {
     "name": "stdout",
     "output_type": "stream",
     "text": [
      "2\n"
     ]
    }
   ],
   "source": [
    "#4.Convert string Data Type to integer Data Type\n",
    "b=\"2\"\n",
    "new_value=int(b)\n",
    "print(new_value)"
   ]
  },
  {
   "cell_type": "code",
   "execution_count": 105,
   "id": "68b5cf3c-5e32-4b36-9822-daecaf31a24d",
   "metadata": {},
   "outputs": [
    {
     "name": "stdout",
     "output_type": "stream",
     "text": [
      "2.0\n"
     ]
    }
   ],
   "source": [
    "#5.Convert string Data Type to float Data Type\n",
    "x=\"2\"\n",
    "new_value1=float(x)\n",
    "print(new_value1)"
   ]
  },
  {
   "cell_type": "code",
   "execution_count": 121,
   "id": "8898d49b-49c6-4c5a-805e-508dca97cdba",
   "metadata": {},
   "outputs": [
    {
     "name": "stdout",
     "output_type": "stream",
     "text": [
      "False\n"
     ]
    }
   ],
   "source": [
    "#6.Convert integer to Boolean\n",
    "num_int=0\n",
    "bool_val=bool(num_int)\n",
    "print(bool_val)"
   ]
  },
  {
   "cell_type": "code",
   "execution_count": 125,
   "id": "5056844e-533e-4764-946a-372a00699d76",
   "metadata": {},
   "outputs": [
    {
     "name": "stdout",
     "output_type": "stream",
     "text": [
      "True\n"
     ]
    }
   ],
   "source": [
    "#7.Convert a Non Empty String to Boolean\n",
    "str_val=\"ZAHID, AHMED\"\n",
    "bool_val=bool(str_val)\n",
    "print(bool_val)"
   ]
  },
  {
   "cell_type": "code",
   "execution_count": 131,
   "id": "7e36868b-7179-49da-9dc8-086379829b10",
   "metadata": {},
   "outputs": [
    {
     "name": "stdout",
     "output_type": "stream",
     "text": [
      "False\n"
     ]
    }
   ],
   "source": [
    "#8.Convert a  Empty String to Boolean\n",
    "emp_str_val=\"\"\n",
    "bool_val=bool(emp_str_val)\n",
    "print(bool_val)"
   ]
  },
  {
   "cell_type": "markdown",
   "id": "05f26310-13c4-46e1-8bc9-a46981e2577c",
   "metadata": {},
   "source": [
    "**IDENTIFIERS**"
   ]
  },
  {
   "cell_type": "code",
   "execution_count": null,
   "id": "2af04e5f-a3d4-4661-8c4c-d491914babe1",
   "metadata": {},
   "outputs": [],
   "source": [
    "#RULES FOR IDENTIFIERS\n",
    "1.AN Identifier must Start With a letter or underscore value\n",
    "2.The Remaining Characters can be any numerical values\n",
    "3.It should not contain any whitespace or special character.\n",
    "4.It should not be identical to keywords\n",
    "5.It is case Sensitive.\n"
   ]
  },
  {
   "cell_type": "code",
   "execution_count": null,
   "id": "6b9f7164-981a-4546-842e-78be298de569",
   "metadata": {},
   "outputs": [],
   "source": [
    "#Valid Identifiers\n",
    "ALHAMDULILLAH\n",
    "ALHAMDULILLAH8\n",
    "\n",
    "#INVALID Identifiers\n",
    "786Bismillah\n",
    "if\n",
    "Apple and apple are not same Identifiers."
   ]
  },
  {
   "cell_type": "markdown",
   "id": "1622ea6f-4c4a-4571-b10d-05067b6b9a0d",
   "metadata": {},
   "source": [
    "**OPERATORS**"
   ]
  },
  {
   "cell_type": "code",
   "execution_count": 150,
   "id": "8d61d598-0f3e-40de-9e7d-7a24da295433",
   "metadata": {},
   "outputs": [
    {
     "name": "stdin",
     "output_type": "stream",
     "text": [
      "Enter Any large Number 3\n",
      "Enter Any Small Number 2\n"
     ]
    },
    {
     "name": "stdout",
     "output_type": "stream",
     "text": [
      "5\n",
      "1\n",
      "6\n",
      "1.5\n",
      "1\n",
      "9\n",
      "1\n"
     ]
    }
   ],
   "source": [
    "#1.WRITE A PROGRAM TO ACCEPT INPUT FROM THE USER AND PERFORM ARITHMETIC OPERATORS\n",
    "val_1=int(input(\"Enter Any large Number\"))\n",
    "val_2=int(input(\"Enter Any Small Number\"))\n",
    "add=val_1 + val_2               #It Adds 2 values\n",
    "diff=val_1-val_2                #It subtracts 2 values\n",
    "prod=val_1 * val_2              #It multiply 2 values\n",
    "div=val_1 / val_2               #It divides 2 values and displays quotient\n",
    "modulo=val_1%val_2              #It modulates 2 values\n",
    "exp=val_1**val_2                #It finds exponents of 2 values\n",
    "floor=val_1//val_2              #It displays 2 values of the floor.it displays integer part of the quotient.\n",
    "print(add)                  \n",
    "print(diff)\n",
    "print(prod)\n",
    "print(div)\n",
    "print(modulo)\n",
    "print(exp)\n",
    "print(floor)"
   ]
  },
  {
   "cell_type": "code",
   "execution_count": null,
   "id": "a2a413e6-477d-490d-b88b-34c35c32d0ec",
   "metadata": {},
   "outputs": [],
   "source": [
    "#2.WRITE A PROGRAM TO ACCEPT INPUT FROM THE USER AND PERFORM COMPARISION OPERATORS\n",
    "val_1=int(input(\"Enter Any large Number\"))\n",
    "val_2=int(input(\"Enter Any Small Number\"))\n",
    "\n"
   ]
  },
  {
   "cell_type": "code",
   "execution_count": null,
   "id": "1097a273-e0e0-4ac0-8019-002ad444bf49",
   "metadata": {},
   "outputs": [],
   "source": [
    "#3.WRITE A PROGRAM TO ACCEPT INPUT FROM THE USER AND PERFORM BIT WISE OPERATORS\n"
   ]
  },
  {
   "cell_type": "markdown",
   "id": "97a83c8d-5c00-4135-9cd7-85566ac4edcb",
   "metadata": {},
   "source": [
    "**CONDITIONAL STATEMENTS**"
   ]
  },
  {
   "cell_type": "code",
   "execution_count": null,
   "id": "1e2f7276-e6e4-4e45-a020-e9adcdec5235",
   "metadata": {},
   "outputs": [],
   "source": [
    "#Conditional Statements are used to make decisions in the code based on certain conditions\n",
    "#THERE ARE 4 TYPES OF CONDITIONAL STATEMENTS\n",
    "if statement\n",
    "elif statement\n",
    "else statement\n",
    "nested conditional statement\n"
   ]
  },
  {
   "cell_type": "code",
   "execution_count": 171,
   "id": "f519ced8-ec11-408c-95aa-340d9a065312",
   "metadata": {},
   "outputs": [
    {
     "name": "stdout",
     "output_type": "stream",
     "text": [
      "y is greater than 3\n"
     ]
    }
   ],
   "source": [
    "#1.Demo of if statement\n",
    "y=10\n",
    "if y>5:\n",
    " print(\"y is greater than 3\")\n"
   ]
  },
  {
   "cell_type": "code",
   "execution_count": 181,
   "id": "e00a2b8b-e300-4e00-88ae-3bbc990116e4",
   "metadata": {},
   "outputs": [
    {
     "name": "stdout",
     "output_type": "stream",
     "text": [
      "3  is lesser than 10\n"
     ]
    }
   ],
   "source": [
    "#2.Demo of else statement\n",
    "a=3\n",
    "if a>10:\n",
    " print(a,\"is greater than 10\")\n",
    "else:\n",
    " print(a,\" is lesser than 10\")"
   ]
  },
  {
   "cell_type": "code",
   "execution_count": 187,
   "id": "901c8841-a0e5-44fe-a939-8b471ddde150",
   "metadata": {},
   "outputs": [
    {
     "name": "stdin",
     "output_type": "stream",
     "text": [
      "Enter any number of your choice 6\n"
     ]
    },
    {
     "name": "stdout",
     "output_type": "stream",
     "text": [
      "6 is an even number\n"
     ]
    }
   ],
   "source": [
    "#3.Write a program that takes an integer as input and prints whether it is an even or odd number\n",
    "num=int(input(\"Enter any number of your choice\"))\n",
    "if num%2==0:\n",
    " print(num,\"is an even number\")\n",
    "else:\n",
    " print(num,\"is an odd number\")"
   ]
  },
  {
   "cell_type": "code",
   "execution_count": 199,
   "id": "0f1d31e7-cc03-4ab5-a5fc-afcf6a43d163",
   "metadata": {},
   "outputs": [
    {
     "name": "stdin",
     "output_type": "stream",
     "text": [
      "Enter the year 20\n"
     ]
    },
    {
     "name": "stdout",
     "output_type": "stream",
     "text": [
      "20 is a leap year\n"
     ]
    }
   ],
   "source": [
    "#4.Write a Program that checks whether a given year is leap year\n",
    "year=int(input(\"Enter the year\"))\n",
    "if year%4==0 and year%400!=0:\n",
    " print(year,\"is a leap year\")\n",
    "else:\n",
    " print(year,\"is not a leap year\")"
   ]
  },
  {
   "cell_type": "code",
   "execution_count": 207,
   "id": "9080d1c9-6bae-4686-b8c3-c9605123eca1",
   "metadata": {},
   "outputs": [
    {
     "name": "stdin",
     "output_type": "stream",
     "text": [
      "Enter your age 18\n"
     ]
    },
    {
     "name": "stdout",
     "output_type": "stream",
     "text": [
      "YOU ARE ELIGIBLE TO VOTE\n"
     ]
    }
   ],
   "source": [
    "#5.Write a Program to check whether a person is eligible to vote\n",
    "age=int(input(\"Enter your age\"))\n",
    "if age>=18:\n",
    " print(\"YOU ARE ELIGIBLE TO VOTE\")\n",
    "else:\n",
    " print(\"YOU ARE NOT ELIGIBLE TO VOTE\")"
   ]
  },
  {
   "cell_type": "code",
   "execution_count": 213,
   "id": "38c1dfa8-4ae7-463b-9ab3-5b849a77b19b",
   "metadata": {},
   "outputs": [
    {
     "name": "stdin",
     "output_type": "stream",
     "text": [
      "Enter the marks 33\n"
     ]
    },
    {
     "name": "stdout",
     "output_type": "stream",
     "text": [
      "student is fail\n"
     ]
    }
   ],
   "source": [
    "#6.Write a program to check whether a person is pass or fail\n",
    "marks=int(input(\"Enter the marks\"))\n",
    "if marks>=35:\n",
    " print(\"student is pass\")\n",
    "else:\n",
    " print(\"student is fail\")"
   ]
  },
  {
   "cell_type": "markdown",
   "id": "3d2249bc-3553-459a-ae61-31989e42f3c8",
   "metadata": {},
   "source": [
    "**#ELIF STATEMENT**"
   ]
  },
  {
   "cell_type": "code",
   "execution_count": 229,
   "id": "736f6502-aa20-421b-9125-a1e95f301eda",
   "metadata": {},
   "outputs": [
    {
     "name": "stdin",
     "output_type": "stream",
     "text": [
      "Enter Any Number 36\n"
     ]
    },
    {
     "name": "stdout",
     "output_type": "stream",
     "text": [
      "36 is greater than 30,but less than 40\n"
     ]
    }
   ],
   "source": [
    "#1.DEMO OF ELIF STATEMENT\n",
    "Y=int(input(\"Enter Any Number\"))\n",
    "if Y>40:\n",
    "    print(Y,\"is greater than 40\")\n",
    "elif Y>30:\n",
    "    print(Y,\"is greater than 30,but less than 40\")\n",
    "else:\n",
    "    print(Y,\"is lesser than 40\")"
   ]
  },
  {
   "cell_type": "code",
   "execution_count": 266,
   "id": "a3e08da1-e1f7-4cea-aa02-f751e747d129",
   "metadata": {},
   "outputs": [
    {
     "name": "stdin",
     "output_type": "stream",
     "text": [
      "Enter Your Score 45\n"
     ]
    },
    {
     "name": "stdout",
     "output_type": "stream",
     "text": [
      "Your Grade is D\n"
     ]
    }
   ],
   "source": [
    "#2.Write a Program That takes students score as input and prints their grade A,B,C,D OR F based on the score\n",
    "Total_score=int(input(\"Enter Your Score\"))\n",
    "if Total_score >= 90:\n",
    "  print(\"Your Grade is A\")\n",
    "elif Total_score>=75 and Total_score<90:\n",
    "       print(\"Your Grade is B\")\n",
    "elif Total_score>=50 and Total_score<75:\n",
    "       print(\"Your Grade is C\")\n",
    "elif Total_score>=35 and Total_score<50:\n",
    "       print(\"Your Grade is D\")\n",
    "else:\n",
    "      print(\"Your Grade is F\")"
   ]
  },
  {
   "cell_type": "code",
   "execution_count": 274,
   "id": "c1639473-7b34-42d7-9a82-8430762b05e5",
   "metadata": {},
   "outputs": [
    {
     "name": "stdin",
     "output_type": "stream",
     "text": [
      "ENTER ANY NUMBER: -54\n"
     ]
    },
    {
     "name": "stdout",
     "output_type": "stream",
     "text": [
      "NEGATIVE NUMBER\n"
     ]
    }
   ],
   "source": [
    "#3.Write a program determinig whether a given number is positive,negative or zero\n",
    "num=int(input(\"ENTER ANY NUMBER:\"))\n",
    "if num >0:\n",
    " print(\"POSITIVE NUMBER\")\n",
    "elif num<0:\n",
    " print(\"NEGATIVE NUMBER\")\n",
    "else :\n",
    " print(\"ZERO NUMBER\")\n"
   ]
  },
  {
   "cell_type": "code",
   "execution_count": 280,
   "id": "15a01564-b6ce-4a28-9d8f-df0f38dae113",
   "metadata": {},
   "outputs": [
    {
     "name": "stdin",
     "output_type": "stream",
     "text": [
      "Enter first Number Of Your Choice 4\n",
      "Enter second Number Of Your Choice 3\n",
      "Enter third Number Of Your Choice 5\n"
     ]
    },
    {
     "name": "stdout",
     "output_type": "stream",
     "text": [
      "5 is the greatest number\n"
     ]
    }
   ],
   "source": [
    "#4.Write a Program that finds and prints the largest number among 3 input numbers.\n",
    "num1=int(input(\"Enter first Number Of Your Choice\"))\n",
    "num2=int(input(\"Enter second Number Of Your Choice\"))\n",
    "num3=int(input(\"Enter third Number Of Your Choice\"))\n",
    "if num1>num2 and num1>num3:\n",
    "  print(num1,\"is the greatest number\")\n",
    "elif num2>num1 and num2>num3:\n",
    "  print(num2,\"is the greatest number\")\n",
    "else:\n",
    "  print(num3,\"is the greatest number\")\n"
   ]
  },
  {
   "cell_type": "code",
   "execution_count": 282,
   "id": "08e0bc53-cf2c-441e-8e2f-a44ece9f2b53",
   "metadata": {},
   "outputs": [
    {
     "name": "stdin",
     "output_type": "stream",
     "text": [
      "Enter first Number Of Your Choice 4\n",
      "Enter second Number Of Your Choice 3\n",
      "Enter third Number Of Your Choice 5\n"
     ]
    },
    {
     "name": "stdout",
     "output_type": "stream",
     "text": [
      "3 is the smallest number\n"
     ]
    }
   ],
   "source": [
    "#5.Write a Program that finds and prints the Smallest number among 3 input numbers.\n",
    "num1=int(input(\"Enter first Number Of Your Choice\"))\n",
    "num2=int(input(\"Enter second Number Of Your Choice\"))\n",
    "num3=int(input(\"Enter third Number Of Your Choice\"))\n",
    "if num1<num2 and num1<num3:\n",
    "  print(num1,\"is the smallest number\")\n",
    "elif num2<num1 and num2<num3:\n",
    "  print(num2,\"is the smallest number\")\n",
    "else:\n",
    "  print(num3,\"is the smallest number\")\n"
   ]
  },
  {
   "cell_type": "code",
   "execution_count": 288,
   "id": "50b9be68-7124-47a8-abf2-522dd4bf2365",
   "metadata": {},
   "outputs": [
    {
     "name": "stdin",
     "output_type": "stream",
     "text": [
      "Enter any Number 5\n",
      "Enter the next number 2\n"
     ]
    },
    {
     "name": "stdout",
     "output_type": "stream",
     "text": [
      "7\n",
      "3\n",
      "10\n",
      "2.5\n"
     ]
    }
   ],
   "source": [
    "#6.Create a simple calculator program with a menu that allows users to perform addition,subtraction,multiplication\n",
    "#and division based on their choice.\n",
    "num1=int(input(\"Enter any Number\"))\n",
    "num2=int(input(\"Enter the next number\"))\n",
    "addition=num1+num2\n",
    "sub=num1-num2\n",
    "prod=num1*num2\n",
    "div=num1/num2\n",
    "print(addition)\n",
    "print(sub)\n",
    "print(prod)\n",
    "print(div)"
   ]
  },
  {
   "cell_type": "code",
   "execution_count": 300,
   "id": "9818ed73-624b-4539-9d5c-34a46c0dada1",
   "metadata": {},
   "outputs": [
    {
     "name": "stdin",
     "output_type": "stream",
     "text": [
      "Enter Any Character A\n"
     ]
    },
    {
     "name": "stdout",
     "output_type": "stream",
     "text": [
      "A is a consonant\n"
     ]
    }
   ],
   "source": [
    "#7.Write a program that checks if a given character is vowel or consonant\n",
    "char=input(\"Enter Any Character\")\n",
    "if char==\"A\" or char==\"E\" or char==\"I\" or char==\"E\" or char==\"U\" :\n",
    "  print(char,\"is a Vowel\")\n",
    "else:\n",
    "  print(char,\"is a consonant\")"
   ]
  },
  {
   "cell_type": "markdown",
   "id": "4cefaf68-a8fd-4df1-bb68-99174d18a6f1",
   "metadata": {},
   "source": [
    "**LOOPING STATEMENTS**"
   ]
  },
  {
   "cell_type": "code",
   "execution_count": null,
   "id": "2f655c4b-deec-402b-8d7b-277e61415153",
   "metadata": {},
   "outputs": [],
   "source": [
    "Looping can used to perform Different Tasks Such as \n",
    "1.Iterating\n",
    "2.Searching\n",
    "3.Sorting\n",
    "4.Reversing\n",
    "5.Performing Calculations\n",
    "There are 4 types of Loops\n",
    "1.While loop\n",
    "2.For Loop\n",
    "3.Nested Loop\n",
    "4.Loop Control Statements"
   ]
  },
  {
   "cell_type": "markdown",
   "id": "a26d2d5a-f955-4c6e-aae6-e4636e1f9546",
   "metadata": {},
   "source": [
    "**1. While Loop-Allows you to repeatedly execute a code block,if a specified condition remains true.**"
   ]
  },
  {
   "cell_type": "code",
   "execution_count": 8,
   "id": "23daa812-782a-4c1c-ab70-095543768254",
   "metadata": {},
   "outputs": [
    {
     "name": "stdout",
     "output_type": "stream",
     "text": [
      "3\n",
      "4\n",
      "5\n",
      "6\n"
     ]
    }
   ],
   "source": [
    "#1.Demo of while loop\n",
    "num=2\n",
    "while num<=5:\n",
    "    num=num+1\n",
    "    print(num)"
   ]
  },
  {
   "cell_type": "code",
   "execution_count": 10,
   "id": "38be9989-4a15-40f1-bc97-da434e2f0057",
   "metadata": {},
   "outputs": [
    {
     "name": "stdout",
     "output_type": "stream",
     "text": [
      "1\n",
      "2\n",
      "3\n",
      "4\n",
      "5\n",
      "6\n",
      "7\n",
      "8\n",
      "9\n",
      "10\n"
     ]
    }
   ],
   "source": [
    "#2.Demo of while loop\n",
    "num=1\n",
    "while num<=10:\n",
    "    print(num)              #print the Numbers Starting From 1 to 10\n",
    "    num=num+1"
   ]
  },
  {
   "cell_type": "code",
   "execution_count": 24,
   "id": "82c34d10-95ef-4c41-a6a0-6ed0a8ebe25c",
   "metadata": {},
   "outputs": [
    {
     "name": "stdout",
     "output_type": "stream",
     "text": [
      "0\n",
      "1\n",
      "2\n",
      "3\n",
      "4\n",
      "5\n",
      "6\n",
      "7\n",
      "8\n",
      "9\n",
      "Last Number\n"
     ]
    }
   ],
   "source": [
    "#3.Demo of While And Else Loop\n",
    "num=0\n",
    "while num<10:\n",
    "      print(num)\n",
    "      num=num+1\n",
    "else:\n",
    "  print(\"Last Number\")"
   ]
  },
  {
   "cell_type": "code",
   "execution_count": 28,
   "id": "b78be6cd-3ee9-4ce1-8f97-e72be08b8bec",
   "metadata": {},
   "outputs": [
    {
     "name": "stdout",
     "output_type": "stream",
     "text": [
      "count = 0\n",
      "count = 1\n",
      "count = 2\n",
      "count = 3\n",
      "count = 4\n",
      "Looping Finished\n"
     ]
    }
   ],
   "source": [
    "#4.Print Starting 5  whole numbers using while and else loop\n",
    "count=0\n",
    "while count<5:\n",
    "      print(\"count =\",count)\n",
    "      count+=1\n",
    "else:\n",
    "    print(\"Looping Finished\")"
   ]
  },
  {
   "cell_type": "code",
   "execution_count": 89,
   "id": "2ce92959-331c-412e-b6f2-ad3c3a742f02",
   "metadata": {},
   "outputs": [
    {
     "name": "stdout",
     "output_type": "stream",
     "text": [
      "2,3,4,5,6,7,8,9,10,11,12,13,14,15,16,17,18,19,20,"
     ]
    }
   ],
   "source": [
    "#wrong\n",
    "#5.Write a Program using a while loop to print even numbers from 2 to 20\n",
    "num=2\n",
    "while num<=20:\n",
    "      print(num,end=\",\")\n",
    "      num%2==0\n",
    "      num=num+1"
   ]
  },
  {
   "cell_type": "code",
   "execution_count": 63,
   "id": "9ef28e3a-b408-4cf3-9774-a5dcc9af2e0f",
   "metadata": {},
   "outputs": [
    {
     "name": "stdin",
     "output_type": "stream",
     "text": [
      " Please Enter Any Number Of Your Choice: 5\n"
     ]
    },
    {
     "name": "stdout",
     "output_type": "stream",
     "text": [
      "5\n",
      "2 *1= 2\n",
      "3 *1= 3\n",
      "4 *1= 4\n",
      "5 *1= 5\n",
      "6 *1= 6\n",
      "7 *1= 7\n",
      "8 *1= 8\n",
      "9 *1= 9\n"
     ]
    }
   ],
   "source": [
    "#6.Write a program that asks the user to enter the number,and then uses the while loop to print the multiplication table for that number\n",
    "num=input(\" Please Enter Any Number Of Your Choice:\")\n",
    "print(num)\n",
    "x=2\n",
    "while x<10:\n",
    "      print(x ,\"*1=\",x)\n",
    "      x=x+1"
   ]
  },
  {
   "cell_type": "code",
   "execution_count": 73,
   "id": "8e63f474-ec17-4b4b-a1f6-29674cebf7af",
   "metadata": {},
   "outputs": [
    {
     "name": "stdin",
     "output_type": "stream",
     "text": [
      "Enter Any Number Of Your Choice 5\n"
     ]
    },
    {
     "name": "stdout",
     "output_type": "stream",
     "text": [
      "factorial is : 120\n"
     ]
    }
   ],
   "source": [
    "#7.Write a Program that calculates Factorial of a given number using while loop\n",
    "num=int(input(\"Enter Any Number Of Your Choice\"))\n",
    "f=1\n",
    "while num>=1:\n",
    "    f=f*num\n",
    "    num=num-1\n",
    "print(\"factorial is :\",f)\n",
    "    "
   ]
  },
  {
   "cell_type": "code",
   "execution_count": 98,
   "id": "a769515e-f393-4ac3-afe5-0833100643a5",
   "metadata": {},
   "outputs": [
    {
     "name": "stdout",
     "output_type": "stream",
     "text": [
      "1 2 3 4 5 6 7 8 9 10 11 12 13 14 15 16 17 18 19 20 21 22 23 24 "
     ]
    }
   ],
   "source": [
    "#wrong\n",
    "#8.Write a program to display odd numbers starting from 1 to 25 using while loop\n",
    "num=1\n",
    "while num<25:\n",
    "      print(num,end=\" \")\n",
    "      num%2!=0\n",
    "      num=num+1"
   ]
  },
  {
   "cell_type": "markdown",
   "id": "eaa1713f-c717-47ce-b9e1-680a8b022c2f",
   "metadata": {},
   "source": [
    "**2.FOR LOOP and RANGE FUNCTION**"
   ]
  },
  {
   "cell_type": "code",
   "execution_count": 105,
   "id": "03e8e28b-cfa8-4ab1-bdb4-bb7e5a23d8ab",
   "metadata": {},
   "outputs": [
    {
     "name": "stdout",
     "output_type": "stream",
     "text": [
      "1 2 3 4 5 6 7 8 9 "
     ]
    }
   ],
   "source": [
    "#1.Display the numbers 1 to 9 Using For Loop\n",
    "for num in range(1,10):                       #range(start,stop)\n",
    "    print(num,end=\" \")"
   ]
  },
  {
   "cell_type": "code",
   "execution_count": 117,
   "id": "d9e96265-a4c0-45bc-84e1-ff2bd03945f6",
   "metadata": {},
   "outputs": [
    {
     "name": "stdout",
     "output_type": "stream",
     "text": [
      "2 4 6 8 10 12 14 16 18 20 22 24 Loooping is completed\n"
     ]
    }
   ],
   "source": [
    "#2.Display the even numbers between 2 and 25 using range function \n",
    "for i in range(2,25,2):                      #range(start,stop,step)\n",
    "    print(i,end=\" \")\n",
    "else:\n",
    "    print(\"Loooping is completed\")\n",
    "    "
   ]
  },
  {
   "cell_type": "code",
   "execution_count": 115,
   "id": "ac603f83-f643-4ce3-98b7-a3e3fa038b93",
   "metadata": {},
   "outputs": [
    {
     "name": "stdout",
     "output_type": "stream",
     "text": [
      "0 1 2 3 4 5 6 7 8 9 10 11 12 13 14 15 16 17 18 19 20 21 22 23 24 25 26 27 28 29 "
     ]
    }
   ],
   "source": [
    "for i in range(30):                          #range(stop)  #By Default Start Value is 0 and stop value will not be displayed.\n",
    "    print(i,end=\" \")"
   ]
  },
  {
   "cell_type": "code",
   "execution_count": 119,
   "id": "105bdf24-969b-4aff-841d-27d03a7ed577",
   "metadata": {},
   "outputs": [
    {
     "name": "stdout",
     "output_type": "stream",
     "text": [
      "1 2 3 4 5 6 7 8 9 10 11 12 13 14 15 16 17 18 19 20 21 22 23 24 25 26 27 28 29 30 31 32 33 34 35 36 37 38 39 40 41 42 43 44 45 46 47 48 49 50 51 52 53 54 55 56 57 58 59 60 61 62 63 64 65 66 67 68 69 70 71 72 73 74 75 76 77 78 79 80 81 82 83 84 85 86 87 88 89 90 91 92 93 94 95 96 97 98 99 100 "
     ]
    }
   ],
   "source": [
    "#4.Write a program to calculate Sum of all Numbers from 1 to 100 using for loop\n",
    "for i in range(1,101):\n",
    "    print(i,end=\" \")\n",
    "    "
   ]
  },
  {
   "cell_type": "code",
   "execution_count": null,
   "id": "1659c4f9-b22d-4d19-904f-5c8a4c536dc4",
   "metadata": {},
   "outputs": [],
   "source": [
    "#5.Write a program that finds and prints the prime numbers in a given range using for loop"
   ]
  },
  {
   "cell_type": "code",
   "execution_count": null,
   "id": "98798b5a-9cb2-488e-b238-228568fa7a02",
   "metadata": {},
   "outputs": [],
   "source": [
    "#6.write a program that prints a fibonacci sequences upto a specified number of terms using for loop."
   ]
  },
  {
   "cell_type": "markdown",
   "id": "69295e2e-e58e-4981-bc2b-06ad46120cde",
   "metadata": {},
   "source": [
    "**3.Nested Loop**"
   ]
  },
  {
   "cell_type": "code",
   "execution_count": 124,
   "id": "7803e116-f90e-4ef3-ad4d-ac54ef66d57b",
   "metadata": {},
   "outputs": [
    {
     "name": "stdout",
     "output_type": "stream",
     "text": [
      "* \n",
      "* * \n",
      "* * * \n",
      "* * * * \n",
      "* * * * * \n"
     ]
    }
   ],
   "source": [
    "#1.Demo of Nested loop\n",
    "for i in range(0,5):       #Outer Loop For Rows\n",
    "    for j in range(i+1):   #Inner Loop For Columns\n",
    "        print('*',end=\" \")\n",
    "    print()                #Add A line Break After Each Row"
   ]
  },
  {
   "cell_type": "code",
   "execution_count": null,
   "id": "d96f1151-151a-4e90-a76c-cd05e8a4005b",
   "metadata": {},
   "outputs": [],
   "source": [
    "#2.Write a program to print a pyramid pattern of numbers using nested loop.The user should specify the height of the pyramid"
   ]
  },
  {
   "cell_type": "code",
   "execution_count": null,
   "id": "e2459f43-7fb2-4bc8-a888-649144799c88",
   "metadata": {},
   "outputs": [],
   "source": [
    "#3.write a program to print a diamond pattern of numbers or characters using nested loop."
   ]
  },
  {
   "cell_type": "code",
   "execution_count": 126,
   "id": "e81e91d1-af75-416d-9693-f90a0d3d0fe0",
   "metadata": {},
   "outputs": [
    {
     "name": "stdout",
     "output_type": "stream",
     "text": [
      "* \n",
      "* * \n",
      "* * * \n",
      "* * * * \n",
      "* * * * * \n",
      "* * * * * * \n",
      "* * * * * * * \n",
      "* * * * * * * * \n",
      "* * * * * * * * * \n"
     ]
    }
   ],
   "source": [
    "for i in range(0,9):\n",
    "    for j in range(i+1):\n",
    "        print('*',end=\" \")\n",
    "    print()"
   ]
  },
  {
   "cell_type": "markdown",
   "id": "fb482e2b-369d-47a3-911c-568fcf95c1dd",
   "metadata": {},
   "source": [
    "**4.Looping Control Statements**"
   ]
  },
  {
   "cell_type": "markdown",
   "id": "3c6c2e16-83d7-46f4-a15e-0dec05d171a8",
   "metadata": {},
   "source": [
    "#There are 3 types of looping control Statements\n",
    "1.Break-It is useful when you want to exit a loop prematurely based on some condition\n",
    "2.Continue\n",
    "3.Pass\n"
   ]
  },
  {
   "cell_type": "code",
   "execution_count": 137,
   "id": "9740bd89-3433-46cf-aaeb-9f306e86629d",
   "metadata": {},
   "outputs": [
    {
     "name": "stdout",
     "output_type": "stream",
     "text": [
      "1 2 3 4 "
     ]
    }
   ],
   "source": [
    "#Demo of Break Statement\n",
    "for i in range(1,11):\n",
    "    if i==5:\n",
    "        break\n",
    "    print(i,end=\" \")"
   ]
  },
  {
   "cell_type": "code",
   "execution_count": 139,
   "id": "3862f190-8bd0-4e92-a3df-821343751c5d",
   "metadata": {},
   "outputs": [
    {
     "name": "stdout",
     "output_type": "stream",
     "text": [
      "1\n",
      "3\n",
      "5\n",
      "7\n",
      "9\n"
     ]
    }
   ],
   "source": [
    "#Demo of Continue Statement\n",
    "for i in range(1,11):\n",
    "    if i%2==0:\n",
    "        continue                #continue statement skips even values of i,so only odd numbers from 1 to 10 are displayed\n",
    "    print(i)"
   ]
  },
  {
   "cell_type": "code",
   "execution_count": 143,
   "id": "4aea9915-a911-483b-a0ff-6508fdb4e526",
   "metadata": {},
   "outputs": [
    {
     "name": "stdout",
     "output_type": "stream",
     "text": [
      "1 3 5 7 9 "
     ]
    }
   ],
   "source": [
    "#Demo of Pass Statement\n",
    "for i in range(10):\n",
    "    if i%2==0:\n",
    "        pass                          #pass statement is used to skip the even numbers in for loop\n",
    "    else:\n",
    "        print(i,end=\" \")"
   ]
  },
  {
   "cell_type": "markdown",
   "id": "9b2cd524-22e8-49e2-8dbf-d1096f7ead12",
   "metadata": {},
   "source": [
    "**DATA STRUCTURES**"
   ]
  },
  {
   "cell_type": "markdown",
   "id": "9aca3da7-a473-4f85-8f8c-a35cd240768e",
   "metadata": {},
   "source": [
    "**STRINGS**"
   ]
  },
  {
   "cell_type": "code",
   "execution_count": null,
   "id": "72f9a9cc-c22e-4b88-8463-8300dd2ae41f",
   "metadata": {},
   "outputs": [],
   "source": [
    "#Data structures allow developers to store retrieve and manipulate data effectively"
   ]
  },
  {
   "cell_type": "code",
   "execution_count": 150,
   "id": "cc578dc3-b864-4d7e-911c-b621558645ac",
   "metadata": {},
   "outputs": [
    {
     "data": {
      "text/plain": [
       "'zah'"
      ]
     },
     "execution_count": 150,
     "metadata": {},
     "output_type": "execute_result"
    }
   ],
   "source": [
    "#1.Slicing is used to retrieve the substring from the main string\n",
    "var=\"zahid\"\n",
    "var[0:3]"
   ]
  },
  {
   "cell_type": "code",
   "execution_count": 154,
   "id": "ec3eb611-3564-411e-a0ec-11347296f3b3",
   "metadata": {},
   "outputs": [
    {
     "name": "stdout",
     "output_type": "stream",
     "text": [
      "zahid ahmed\n"
     ]
    }
   ],
   "source": [
    "#2.concatenation\n",
    "var=\"zahid\"\n",
    "var1=\"ahmed\"\n",
    "print(var + \" \" + var1)"
   ]
  },
  {
   "cell_type": "code",
   "execution_count": 156,
   "id": "a2802981-8c8e-49a9-8b05-b90cea249100",
   "metadata": {},
   "outputs": [
    {
     "name": "stdout",
     "output_type": "stream",
     "text": [
      "ZAHID\n"
     ]
    }
   ],
   "source": [
    "#3.converts the string into upper case\n",
    "print(var.upper())    "
   ]
  },
  {
   "cell_type": "code",
   "execution_count": 158,
   "id": "bb9b5981-fd0d-4b3c-919a-b50a56247a63",
   "metadata": {},
   "outputs": [
    {
     "name": "stdout",
     "output_type": "stream",
     "text": [
      "zahid\n"
     ]
    }
   ],
   "source": [
    "#4.converts the string into lower case \n",
    "print(var.lower())   \n"
   ]
  },
  {
   "cell_type": "code",
   "execution_count": 160,
   "id": "88f19578-3532-489b-be8e-2d5f235a9000",
   "metadata": {},
   "outputs": [
    {
     "name": "stdout",
     "output_type": "stream",
     "text": [
      "Zahid ahmed\n"
     ]
    }
   ],
   "source": [
    "#5.Capitalize() capitalizes the first character of the string & converts the rest to lower case\n",
    "var=\"zahid ahmed\"\n",
    "print(var.capitalize())"
   ]
  },
  {
   "cell_type": "code",
   "execution_count": 164,
   "id": "ba1ba32e-3ad0-4552-8005-bb4a2771a48f",
   "metadata": {},
   "outputs": [
    {
     "name": "stdout",
     "output_type": "stream",
     "text": [
      "Zahid Ahmed\n"
     ]
    }
   ],
   "source": [
    "#6.title()-capitalizes the first character of each word\n",
    "var=\"zahid ahmed\"\n",
    "print(var.title())"
   ]
  },
  {
   "cell_type": "code",
   "execution_count": 1,
   "id": "66838617-69eb-4bb2-8d9f-da2017a41820",
   "metadata": {},
   "outputs": [
    {
     "name": "stdout",
     "output_type": "stream",
     "text": [
      "zahid ahmed\n"
     ]
    }
   ],
   "source": [
    "#7.strip()-This Function removes leading and trailing whitespaces from the given string\n",
    "var=\"    zahid ahmed   \"\n",
    "print(var.strip())\n"
   ]
  },
  {
   "cell_type": "code",
   "execution_count": 3,
   "id": "a7b0af1a-a642-4762-8484-bb694d74e710",
   "metadata": {},
   "outputs": [
    {
     "name": "stdout",
     "output_type": "stream",
     "text": [
      "zahid ahmed   \n"
     ]
    }
   ],
   "source": [
    "#8.lstrip()-This Function removes leading  whitespaces from the given string\n",
    "var=\"    zahid ahmed   \"\n",
    "print(var.lstrip())"
   ]
  },
  {
   "cell_type": "code",
   "execution_count": 5,
   "id": "95fd6c0d-14c8-406d-adb0-7a7246920e45",
   "metadata": {},
   "outputs": [
    {
     "name": "stdout",
     "output_type": "stream",
     "text": [
      "    zahid ahmed\n"
     ]
    }
   ],
   "source": [
    "#9.rstrip()-This Function removes trailing whitespaces from the given string\n",
    "var=\"    zahid ahmed   \"\n",
    "print(var.rstrip())"
   ]
  },
  {
   "cell_type": "code",
   "execution_count": 9,
   "id": "9d73aaf5-a672-4747-8435-c0ce73a42480",
   "metadata": {},
   "outputs": [
    {
     "name": "stdout",
     "output_type": "stream",
     "text": [
      "True\n"
     ]
    }
   ],
   "source": [
    "#10.startswith(prefix)-checks if the string starts with specified prefix\n",
    "var=\"ALLAH\"\n",
    "print(var.startswith('''ALL'''))"
   ]
  },
  {
   "cell_type": "code",
   "execution_count": 13,
   "id": "b541ba8b-8155-4db6-8c72-500c5d7ab2af",
   "metadata": {},
   "outputs": [
    {
     "name": "stdout",
     "output_type": "stream",
     "text": [
      "False\n"
     ]
    }
   ],
   "source": [
    "#11.endswith(prefix)-checks if the string ends with specified suffix\n",
    "var=\"ALLAH\"\n",
    "print(var.endswith('''ALL'''))"
   ]
  },
  {
   "cell_type": "code",
   "execution_count": 17,
   "id": "63c9a825-e929-4a15-ba93-3b69f4bead7d",
   "metadata": {},
   "outputs": [
    {
     "name": "stdout",
     "output_type": "stream",
     "text": [
      "ALLAHUMMA BAARIK ALAA SAYYIDINA MOHAMMADIN\n"
     ]
    }
   ],
   "source": [
    "#12.REPLACE(OLD,NEW)=This function replaces old occurences with new in the string\n",
    "var=\"ALLAHUMMA SUALLI ALAA SAYYIDINA MOHAMMADIN\"\n",
    "print(var.replace(\"SUALLI\",\"BAARIK\"))"
   ]
  },
  {
   "cell_type": "code",
   "execution_count": 21,
   "id": "b200e0db-18ec-4f95-8319-283a86f77e15",
   "metadata": {},
   "outputs": [
    {
     "name": "stdout",
     "output_type": "stream",
     "text": [
      "BEST\n"
     ]
    }
   ],
   "source": [
    "var=\"NEST\"\n",
    "print(var.replace(\"N\",\"B\"))"
   ]
  },
  {
   "cell_type": "code",
   "execution_count": 25,
   "id": "971863b6-70d2-44bb-92cf-758c8558dcb0",
   "metadata": {},
   "outputs": [
    {
     "name": "stdout",
     "output_type": "stream",
     "text": [
      "17\n"
     ]
    }
   ],
   "source": [
    "#13.FIND(SUBSTRING)-Returns the index of the first occurence of the substring\n",
    "var=\"ALLAHUMMA SUALLI ALAA SAYYIDINA MOHAMMADIN\"\n",
    "print(var.find(\"ALAA\"))"
   ]
  },
  {
   "cell_type": "code",
   "execution_count": 27,
   "id": "fda71a55-a484-403c-bd7b-6f831d98d9c9",
   "metadata": {},
   "outputs": [
    {
     "name": "stdout",
     "output_type": "stream",
     "text": [
      "3\n"
     ]
    }
   ],
   "source": [
    "#14.COUNT(SUBSTRING)-returns the occurences of the substring\n",
    "var=\"ZAHID AHMED IS MY NAME.ZAHID IS THE FIRST NAME AND AHMED IS THE LAST NAME\"\n",
    "print(var.count(\"IS\"))\n"
   ]
  },
  {
   "cell_type": "code",
   "execution_count": 29,
   "id": "81cb53a1-2286-4b54-b7d5-08ed78cc523a",
   "metadata": {},
   "outputs": [
    {
     "name": "stdout",
     "output_type": "stream",
     "text": [
      "['ZAHID AHMED IS MY NAME.ZAHID IS THE FIRST NAME AND AHMED IS THE LAST NAME']\n"
     ]
    }
   ],
   "source": [
    "#15.SPLIT(SUBSTRING)-SPLITS THE STRING INTO A LIST OF SUBSTRINGS BAESD ON SEPARATOR\n",
    "var=\"ZAHID AHMED IS MY NAME.ZAHID IS THE FIRST NAME AND AHMED IS THE LAST NAME\"\n",
    "print(var.split(\",\"))"
   ]
  },
  {
   "cell_type": "code",
   "execution_count": 31,
   "id": "a8f78fba-69e0-47b6-a04d-73c4a4dadfeb",
   "metadata": {},
   "outputs": [
    {
     "name": "stdout",
     "output_type": "stream",
     "text": [
      "False\n"
     ]
    }
   ],
   "source": [
    "#16.isalpha()-This Function Returns true if all the characters in the given strinng are alphabetic.\n",
    "var=\"ZAHID 786\"\n",
    "print(var.isalpha())"
   ]
  },
  {
   "cell_type": "code",
   "execution_count": 41,
   "id": "dba53bea-5104-4638-845f-b785b1ea7331",
   "metadata": {},
   "outputs": [
    {
     "name": "stdout",
     "output_type": "stream",
     "text": [
      "True\n"
     ]
    }
   ],
   "source": [
    "#17.isdigit()-This Function Returns true if all the characters in the given strinng are numeric.\n",
    "var=\"678786\"\n",
    "print(var.isdigit())"
   ]
  },
  {
   "cell_type": "code",
   "execution_count": 53,
   "id": "78f0e955-2beb-455e-90b8-7dac00b90fa3",
   "metadata": {},
   "outputs": [
    {
     "name": "stdout",
     "output_type": "stream",
     "text": [
      "True\n"
     ]
    }
   ],
   "source": [
    "#18.isalnum()-This Function Returns true if all the characters in the given strinng are alphabetic and numeric.\n",
    "var=\"ZAHID786\"\n",
    "print(var.isalnum())"
   ]
  },
  {
   "cell_type": "code",
   "execution_count": 61,
   "id": "bf2711bb-e84c-478c-becc-587aa4c6c81f",
   "metadata": {},
   "outputs": [
    {
     "name": "stdout",
     "output_type": "stream",
     "text": [
      "True\n"
     ]
    }
   ],
   "source": [
    "#19.isupper()-This Function Returns true if all the characters in the given strinng are uppercase.\n",
    "var=\"ZAHID\"\n",
    "print(var.isupper())"
   ]
  },
  {
   "cell_type": "code",
   "execution_count": 59,
   "id": "f9bc4a2b-6d70-4c3b-884a-179301b7b56d",
   "metadata": {},
   "outputs": [
    {
     "name": "stdout",
     "output_type": "stream",
     "text": [
      "True\n"
     ]
    }
   ],
   "source": [
    "#20.islower()-This Function Returns true if all the characters in the given strinng are lowercase.\n",
    "var=\"zahid\"\n",
    "print(var.islower())"
   ]
  },
  {
   "cell_type": "code",
   "execution_count": null,
   "id": "b49e5106-1061-44e2-b304-2ce75bbeb1e0",
   "metadata": {},
   "outputs": [],
   "source": [
    "#write a program to reverse the given string\n",
    "#write a program to check whether the string is palindrome(reads the same forward and backward)\n",
    "#write a program to check if two strings are anagrams of each other( contains the same characters inn different order)"
   ]
  },
  {
   "cell_type": "markdown",
   "id": "2d33602c-8675-4e7c-855b-4de573f457d5",
   "metadata": {},
   "source": [
    "**STRING COMPARISION**"
   ]
  },
  {
   "cell_type": "code",
   "execution_count": 84,
   "id": "74bfa08d-597d-424f-8764-79a1fa462c67",
   "metadata": {},
   "outputs": [
    {
     "name": "stdout",
     "output_type": "stream",
     "text": [
      "My Name is 'ZAHID',and i am 30 years old.\n"
     ]
    }
   ],
   "source": [
    "#1.old style format method(%)\n",
    "name=\"ZAHID\"\n",
    "age=30\n",
    "formatted_str=\"My Name is %s,and i am %d years old.\"%(name,age)\n",
    "print(formatted_str)"
   ]
  },
  {
   "cell_type": "code",
   "execution_count": 76,
   "id": "3ce8263b-ad4c-4e49-9385-4120b72061c9",
   "metadata": {},
   "outputs": [
    {
     "name": "stdin",
     "output_type": "stream",
     "text": [
      "Enter your name AHMED\n",
      "Enter your AGE 30\n"
     ]
    },
    {
     "name": "stdout",
     "output_type": "stream",
     "text": [
      "My Name is AHMED and I am 30 years old.\n"
     ]
    }
   ],
   "source": [
    "#2.old style format method(%) using input function\n",
    "name=input(\"Enter your name\")\n",
    "age=int(input(\"Enter your AGE\"))\n",
    "formatted_str=\"My Name is %s and I am %d years old.\"%(name,age)\n",
    "print(formatted_str)"
   ]
  },
  {
   "cell_type": "code",
   "execution_count": 78,
   "id": "1c6e31ff-7577-4c89-b700-f6ba48d5c084",
   "metadata": {},
   "outputs": [
    {
     "name": "stdout",
     "output_type": "stream",
     "text": [
      "My Name is ZAHID and i am 30 years old.\n"
     ]
    }
   ],
   "source": [
    "#3. f strings method\n",
    "name=\"ZAHID\"\n",
    "age=30\n",
    "formatted_str=f\"My Name is {name} and i am {age} years old.\"\n",
    "print(formatted_str)"
   ]
  },
  {
   "cell_type": "code",
   "execution_count": 80,
   "id": "066f3437-48d9-4c26-bfb7-b4f7c073eaee",
   "metadata": {},
   "outputs": [
    {
     "name": "stdout",
     "output_type": "stream",
     "text": [
      "My Name is ZAHID,and i am 30 years old.\n"
     ]
    }
   ],
   "source": [
    "#4.format() method\n",
    "name=\"ZAHID\"\n",
    "age=30\n",
    "formatted_str=\"My Name is {},and i am {} years old.\".format(name,age)\n",
    "print(formatted_str)"
   ]
  },
  {
   "cell_type": "markdown",
   "id": "92ebc627-f54c-4330-b4c8-3071bfd19689",
   "metadata": {},
   "source": [
    "**LIST**"
   ]
  },
  {
   "cell_type": "code",
   "execution_count": 159,
   "id": "b3c62218-ab63-40c7-a432-9a862ade57f2",
   "metadata": {},
   "outputs": [
    {
     "name": "stdout",
     "output_type": "stream",
     "text": [
      "[10, 20, 30, 40, 50, 60]\n",
      "['zahid']\n"
     ]
    }
   ],
   "source": [
    "#1.append-This Function adds an element at the end of the list by default\n",
    "my_list=[10,20,30,40,50]\n",
    "names=[\"ZAHID\",\"AHMED\",\"MOHAMMED\",\"SUHAIB\",\"AASIM\",\"NAYITHI\"]\n",
    "mixed_list=[\"AHMED\",10,6.5,True]\n",
    "empty_list=[]\n",
    "my_list.append(60)\n",
    "print(my_list)\n",
    "\n",
    "empty_list.append(\"zahid\")\n",
    "print(empty_list)"
   ]
  },
  {
   "cell_type": "code",
   "execution_count": 161,
   "id": "4f4cac81-8818-4e63-b2fa-f1b9f2396d7b",
   "metadata": {},
   "outputs": [
    {
     "name": "stdout",
     "output_type": "stream",
     "text": [
      "['zahid', 'zahid', 60]\n"
     ]
    }
   ],
   "source": [
    "#2.extend-This function adds multiple elements into the list\n",
    "empty_list.extend([\"zahid\",60])\n",
    "print(empty_list)"
   ]
  },
  {
   "cell_type": "code",
   "execution_count": 105,
   "id": "01243bb7-3132-4fc3-ac66-ed48ddcfd527",
   "metadata": {},
   "outputs": [
    {
     "name": "stdout",
     "output_type": "stream",
     "text": [
      "[10, 20, 30, 35, 40, 50, 60]\n"
     ]
    }
   ],
   "source": [
    "#3.list.insert(i,x)-Inserts an element x at a specified position i\n",
    "my_list.insert(3,35)\n",
    "print(my_list)"
   ]
  },
  {
   "cell_type": "code",
   "execution_count": 113,
   "id": "aa0ccec2-42ca-4748-8968-480f11298997",
   "metadata": {},
   "outputs": [
    {
     "name": "stdout",
     "output_type": "stream",
     "text": [
      "['AHMED', True]\n"
     ]
    }
   ],
   "source": [
    "#4.list.remove(x)-removes the first occurence of  an element x \n",
    "\n",
    "mixed_list.remove(10)\n",
    "print(mixed_list)"
   ]
  },
  {
   "cell_type": "code",
   "execution_count": 173,
   "id": "c6d0a14f-7b30-4ce9-aa46-6e0d9cdd98e7",
   "metadata": {},
   "outputs": [
    {
     "name": "stdout",
     "output_type": "stream",
     "text": [
      "30\n"
     ]
    }
   ],
   "source": [
    "#5.pop()-This Function removes the element from the list\n",
    "list1=[20,25,30,40]\n",
    "print(list1.pop(2))"
   ]
  },
  {
   "cell_type": "markdown",
   "id": "bb2f024c-9036-4166-9f2f-f31144589e1c",
   "metadata": {},
   "source": [
    "**INDEX()**"
   ]
  },
  {
   "cell_type": "code",
   "execution_count": 171,
   "id": "c3b7c743-236f-4804-be6d-5df1feeb5423",
   "metadata": {},
   "outputs": [
    {
     "data": {
      "text/plain": [
       "2"
      ]
     },
     "execution_count": 171,
     "metadata": {},
     "output_type": "execute_result"
    }
   ],
   "source": [
    "#6.index(x)-This Function returns the inndex of the first occurence of the element\n",
    "list1.index(40)"
   ]
  },
  {
   "cell_type": "code",
   "execution_count": 226,
   "id": "8a9a76e0-9e42-4412-b44f-baa37171683a",
   "metadata": {},
   "outputs": [
    {
     "data": {
      "text/plain": [
       "1"
      ]
     },
     "execution_count": 226,
     "metadata": {},
     "output_type": "execute_result"
    }
   ],
   "source": [
    "#find the index of 3(First Occurence of 3)\n",
    "t=(1,3,2,5,3,5,6,8)\n",
    "t.index(3)"
   ]
  },
  {
   "cell_type": "code",
   "execution_count": 228,
   "id": "d029da72-eced-4ede-ada6-2a56afdec165",
   "metadata": {},
   "outputs": [
    {
     "data": {
      "text/plain": [
       "4"
      ]
     },
     "execution_count": 228,
     "metadata": {},
     "output_type": "execute_result"
    }
   ],
   "source": [
    "#Find The second occurence of a value 3\n",
    "t=(1,3,2,5,3,5,6,8)\n",
    "t.index(3,2)                    #static formula"
   ]
  },
  {
   "cell_type": "code",
   "execution_count": 230,
   "id": "c1abcbb1-2cd8-4e1a-bc51-e75453acfde3",
   "metadata": {},
   "outputs": [
    {
     "data": {
      "text/plain": [
       "4"
      ]
     },
     "execution_count": 230,
     "metadata": {},
     "output_type": "execute_result"
    }
   ],
   "source": [
    "#fird the Third Occurence of a value 5 from a tuple(static formula)\n",
    "tup=(1,1,3,2,5,3,5,6,7,5,4,8)\n",
    "tup.index(5,3)"
   ]
  },
  {
   "cell_type": "code",
   "execution_count": 242,
   "id": "9a2fa4fe-68a5-4f37-b82e-a6abc873a250",
   "metadata": {},
   "outputs": [
    {
     "data": {
      "text/plain": [
       "9"
      ]
     },
     "execution_count": 242,
     "metadata": {},
     "output_type": "execute_result"
    }
   ],
   "source": [
    "#fird the Third Occurence of a value 5 from a tuple(dynamic formula)\n",
    "tup=(1,1,3,2,5,3,5,6,7,5,4,8)\n",
    "tup.index(5,tup.index(5)+3)"
   ]
  },
  {
   "cell_type": "code",
   "execution_count": 253,
   "id": "de9ba4f6-63ed-4d25-98f6-aee267453413",
   "metadata": {},
   "outputs": [
    {
     "ename": "AttributeError",
     "evalue": "'tuple' object has no attribute 'inndex'",
     "output_type": "error",
     "traceback": [
      "\u001b[1;31m---------------------------------------------------------------------------\u001b[0m",
      "\u001b[1;31mAttributeError\u001b[0m                            Traceback (most recent call last)",
      "Cell \u001b[1;32mIn[253], line 1\u001b[0m\n\u001b[1;32m----> 1\u001b[0m tup\u001b[38;5;241m.\u001b[39mindex(\u001b[38;5;241m5\u001b[39m,tup\u001b[38;5;241m.\u001b[39minndex(\u001b[38;5;241m5\u001b[39m,tup\u001b[38;5;241m.\u001b[39mindex(\u001b[38;5;241m5\u001b[39m)\u001b[38;5;241m+\u001b[39m\u001b[38;5;241m1\u001b[39m)\u001b[38;5;241m+\u001b[39m\u001b[38;5;241m1\u001b[39m)\n",
      "\u001b[1;31mAttributeError\u001b[0m: 'tuple' object has no attribute 'inndex'"
     ]
    }
   ],
   "source": [
    "tup.index(5,tup.inndex(5,tup.index(5)+1)+1)"
   ]
  },
  {
   "cell_type": "markdown",
   "id": "abd3b4d6-2018-4305-9f27-a98cf2dfd04c",
   "metadata": {},
   "source": [
    "**COUNT()-This Function Counts The Number Of Occurences in the list.**"
   ]
  },
  {
   "cell_type": "markdown",
   "id": "0104d879-90a7-433c-91e2-3d2f26707990",
   "metadata": {},
   "source": [
    "tup.count?\n",
    "It returns no of parameters in the count function\n"
   ]
  },
  {
   "cell_type": "code",
   "execution_count": 169,
   "id": "b8cacfc3-18a1-4bd9-aeec-9fc9aa2b51a0",
   "metadata": {},
   "outputs": [
    {
     "name": "stdout",
     "output_type": "stream",
     "text": [
      "No of times 40 occurs in the list is  2\n",
      "NO of times 30 occurs in the list is 2\n"
     ]
    }
   ],
   "source": [
    "#7count(x)-This Function Counts The Number Of Occurences in the list.\n",
    "list2=[10,20,30,40,30,50,20,40,50,60,70,80]\n",
    "print(\"No of times 40 occurs in the list is \",list2.count(40))\n",
    "print(\"NO of times 30 occurs in the list is\",list2.count(30))"
   ]
  },
  {
   "cell_type": "markdown",
   "id": "0186913b-c8a4-42e3-8b17-5a7af4b5b2c7",
   "metadata": {},
   "source": [
    "**objective on Metro_card_fraud_detection**"
   ]
  },
  {
   "cell_type": "code",
   "execution_count": 277,
   "id": "9e2d2554-0935-4510-8c74-5427e6a726ce",
   "metadata": {},
   "outputs": [
    {
     "data": {
      "text/plain": [
       "3"
      ]
     },
     "execution_count": 277,
     "metadata": {},
     "output_type": "execute_result"
    }
   ],
   "source": [
    "Metro_card_fraud_detection =(0,0,0,0,0,0,0,0,0,0,0,0,0,0,0,0,0,0,0,0,0,0,0,0,0,0,0,0,0,0,0,0,0,0,0,0,1,0,0,0,0,0,0,0,0,0,0,0,0,0,0,0,0,0,0,0,0,0,0,0,0,0,0,0,0,0,0,0,0,0,0,0,0,1,0,0,0,0,0,0,0,0,0,0,0,0,0,0,0,0,0,0,0,0,0,0,0,0,0,0,0,0,0,0,0,0,0,0,0,0,0,0,0,0,0,0,0,0,0,0,0,0,0,0,0,0,0,0,1,0,0,0,0,0,0,0,0,0,0,0,0,0,0,0,0,0,0)\n",
    "Metro_card_fraud_detection.count(1)            #To count Number of occurences\n",
    "\n"
   ]
  },
  {
   "cell_type": "code",
   "execution_count": 275,
   "id": "55048284-9b95-498a-b57a-33f0e4f390a2",
   "metadata": {},
   "outputs": [
    {
     "data": {
      "text/plain": [
       "36"
      ]
     },
     "execution_count": 275,
     "metadata": {},
     "output_type": "execute_result"
    }
   ],
   "source": [
    "#obj1.How many fraudulent Swappinng is done in that day and what are the indexes of the fraud value\n",
    "# 0:Normal person\n",
    "# 1:Fraudulent Swapping\n",
    "Metro_card_fraud_detection.index(1)   #To find the first position of the index\n"
   ]
  },
  {
   "cell_type": "code",
   "execution_count": 279,
   "id": "f0a4d4b5-44c7-4893-ba10-27f54b1127f3",
   "metadata": {},
   "outputs": [
    {
     "data": {
      "text/plain": [
       "73"
      ]
     },
     "execution_count": 279,
     "metadata": {},
     "output_type": "execute_result"
    }
   ],
   "source": [
    "#To find the second occurence of 1\n",
    "Metro_card_fraud_detection.index(1,Metro_card_fraud_detection.index(1)+1) "
   ]
  },
  {
   "cell_type": "code",
   "execution_count": 281,
   "id": "7bce70fa-91d8-4892-8c73-a4129ec0bb3c",
   "metadata": {},
   "outputs": [
    {
     "data": {
      "text/plain": [
       "128"
      ]
     },
     "execution_count": 281,
     "metadata": {},
     "output_type": "execute_result"
    }
   ],
   "source": [
    "#To find the Third occurence of 1\n",
    "Metro_card_fraud_detection.index(1,Metro_card_fraud_detection.index(1,Metro_card_fraud_detection.index(1)+1)+1) \n"
   ]
  },
  {
   "cell_type": "markdown",
   "id": "b5ca0786-a105-43e7-b5b5-1b058127b036",
   "metadata": {},
   "source": [
    "**Demo Of Survey For Diabetes Patient**"
   ]
  },
  {
   "cell_type": "code",
   "execution_count": null,
   "id": "cb757f5b-c667-4095-9a5e-d9ce540f35a0",
   "metadata": {},
   "outputs": [],
   "source": [
    "#How many males and females have participated in the survey?\n",
    "gender = (\"F\",\"Male\",\"Female\",\"male\",\"M\",\"F\",\"Male\",\"Female\",\"male\",\"M\",\"F\",\"Male\",\"Female\",\"male\",\"M\",\"F\",\"Male\",\"Female\",\"male\",\"M\",\"F\",\"Male\",\"Female\",\"male\",\"M\",\"F\",\"Male\",\"Female\",\"male\",\"M\",\"F\",\"Male\",\"Female\",\"male\",\"M\",\"F\",\"Male\",\"Female\",\"male\",\"M\")"
   ]
  },
  {
   "cell_type": "code",
   "execution_count": 167,
   "id": "0d603677-baa7-4ad5-a4b7-1dab9ee8015d",
   "metadata": {},
   "outputs": [
    {
     "name": "stdout",
     "output_type": "stream",
     "text": [
      "[10, 20, 20, 30, 30, 40, 40, 50, 50, 60, 70, 80]\n"
     ]
    }
   ],
   "source": [
    "#8.sort(key=none,reverse=False)=This Function sorts the elements of the list\n",
    "list3=[10,20,30,40,30,50,20,40,50,60,70,80]\n",
    "list3.sort()\n",
    "print(list3)"
   ]
  },
  {
   "cell_type": "code",
   "execution_count": 165,
   "id": "1ed736b5-b45a-4792-9b06-9aa5825daf46",
   "metadata": {},
   "outputs": [
    {
     "name": "stdout",
     "output_type": "stream",
     "text": [
      "[10, 8, 6, 4, 2]\n"
     ]
    }
   ],
   "source": [
    "#9.reverse-This function reverse the elements of the list\n",
    "list4=[2,4,6,8,10]\n",
    "list4.reverse()\n",
    "print(list4)"
   ]
  },
  {
   "cell_type": "code",
   "execution_count": 163,
   "id": "9203d453-9eed-4aac-8321-0c2303074062",
   "metadata": {},
   "outputs": [
    {
     "name": "stdout",
     "output_type": "stream",
     "text": [
      "[10, 8, 6, 4, 2]\n"
     ]
    }
   ],
   "source": [
    "#10.copy-This Function Copies the list of elements into the other list\n",
    "list5=list4.copy()\n",
    "print(list5)"
   ]
  },
  {
   "cell_type": "code",
   "execution_count": 175,
   "id": "7496b985-0361-481f-b006-ea3d67828022",
   "metadata": {},
   "outputs": [
    {
     "name": "stdout",
     "output_type": "stream",
     "text": [
      "[]\n"
     ]
    }
   ],
   "source": [
    "#11.clear-This Function Removes all the elements from the list\n",
    "list5.clear()\n",
    "print(list5)"
   ]
  },
  {
   "cell_type": "code",
   "execution_count": 179,
   "id": "3d482e23-6d6e-400a-91f0-804e7264c87d",
   "metadata": {},
   "outputs": [
    {
     "name": "stdout",
     "output_type": "stream",
     "text": [
      "10\n"
     ]
    }
   ],
   "source": [
    "#12.len-This function will return the number of items in the list\n",
    "list=[11,12,13,14,15,16,17,18,19,20]\n",
    "print(len(list))\n"
   ]
  },
  {
   "cell_type": "code",
   "execution_count": 181,
   "id": "4bd28fd8-0547-493c-903c-8d1a32bdf899",
   "metadata": {},
   "outputs": [
    {
     "name": "stdout",
     "output_type": "stream",
     "text": [
      "11\n"
     ]
    }
   ],
   "source": [
    "#13.min-This Function Will return the smallest element in the list\n",
    "list=[11,12,13,14,15,16,17,18,19,20]\n",
    "print(min(list))"
   ]
  },
  {
   "cell_type": "code",
   "execution_count": 183,
   "id": "27b34930-20d2-44f9-9672-c4bc7fb6b235",
   "metadata": {},
   "outputs": [
    {
     "name": "stdout",
     "output_type": "stream",
     "text": [
      "20\n"
     ]
    }
   ],
   "source": [
    "#14.max-This Function Will return the largest element in the list\n",
    "list=[11,12,13,14,15,16,17,18,19,20]\n",
    "print(max(list))"
   ]
  },
  {
   "cell_type": "code",
   "execution_count": 185,
   "id": "1f9a9c8e-129b-4cf4-86c9-ce557a0ad924",
   "metadata": {},
   "outputs": [
    {
     "name": "stdout",
     "output_type": "stream",
     "text": [
      "155\n"
     ]
    }
   ],
   "source": [
    "#15.sum-This Function Will return the sum of all element in the list\n",
    "list=[11,12,13,14,15,16,17,18,19,20]\n",
    "print(sum(list))"
   ]
  },
  {
   "cell_type": "code",
   "execution_count": 195,
   "id": "03b10b10-d085-40b8-b0bd-3f95efb3f618",
   "metadata": {},
   "outputs": [
    {
     "name": "stdout",
     "output_type": "stream",
     "text": [
      "[11, 12, 13, 14, 15, 17, 18, 19, 20]\n"
     ]
    }
   ],
   "source": [
    "#16.sorted-This function will return the sorted elements from the list\n",
    "list16=[20,17,15,19,14,18,11,13,12]\n",
    "print(sorted(list16))\n"
   ]
  },
  {
   "cell_type": "markdown",
   "id": "29196772-ce6e-4781-8010-b886bfa88da5",
   "metadata": {},
   "source": [
    "**NESTED LIST**"
   ]
  },
  {
   "cell_type": "code",
   "execution_count": 197,
   "id": "80bc6a05-9ee5-494b-a3b3-25d001e57c22",
   "metadata": {},
   "outputs": [
    {
     "name": "stdout",
     "output_type": "stream",
     "text": [
      "[[1, 2, 3], [4, 5, 6]]\n"
     ]
    }
   ],
   "source": [
    "nested_list=[[1,2,3],[4,5,6]]\n",
    "print(nested_list)"
   ]
  },
  {
   "cell_type": "markdown",
   "id": "c9115e41-c7c6-43b8-a0fc-ec151c30e69e",
   "metadata": {},
   "source": [
    "**LIST COMMPRHENSION**"
   ]
  },
  {
   "cell_type": "code",
   "execution_count": 1,
   "id": "5df95156-0387-40b8-b13e-c049679335ed",
   "metadata": {},
   "outputs": [
    {
     "data": {
      "text/plain": [
       "['Ritu', 'Ritik', 'Radha', 'Ritu']"
      ]
     },
     "execution_count": 1,
     "metadata": {},
     "output_type": "execute_result"
    }
   ],
   "source": [
    "#Store the names Starting with R\n",
    "names = ['Gayathri', 'Akash', 'Ritu', 'Ritik', 'Radha', 'Sankar', 'Venky', 'Jyoti', 'Dhanshree', 'Vepasa', 'Jahanvi', 'Vishnu', 'Manasa', 'Ritu']\n",
    "list_R=[i for i in names if i.startswith(\"R\")]\n",
    "list_R"
   ]
  },
  {
   "cell_type": "code",
   "execution_count": 7,
   "id": "918459d6-170c-4d65-8183-c041977930a6",
   "metadata": {},
   "outputs": [
    {
     "data": {
      "text/plain": [
       "[]"
      ]
     },
     "execution_count": 7,
     "metadata": {},
     "output_type": "execute_result"
    }
   ],
   "source": [
    "#Store the names Starting with Z\n",
    "list_Z=[j for j in names if j.startswith(\"Z\")]\n",
    "list_Z"
   ]
  },
  {
   "cell_type": "code",
   "execution_count": null,
   "id": "b1ab20b2-8154-4bbf-8766-b222b5920e76",
   "metadata": {},
   "outputs": [],
   "source": []
  },
  {
   "cell_type": "code",
   "execution_count": 205,
   "id": "a8d77f83-841e-4f5f-b274-319e0e1d6e6f",
   "metadata": {},
   "outputs": [
    {
     "name": "stdout",
     "output_type": "stream",
     "text": [
      "[1, 4, 9, 16, 25]\n"
     ]
    }
   ],
   "source": [
    "#1.Display any 5 square numbers\n",
    "numbers=[1,2,3,4,5]\n",
    "squares=[x**2 for x in numbers]\n",
    "print(squares)"
   ]
  },
  {
   "cell_type": "code",
   "execution_count": 207,
   "id": "7a60815f-167f-4ec4-b94f-f2b8438100c6",
   "metadata": {},
   "outputs": [
    {
     "name": "stdout",
     "output_type": "stream",
     "text": [
      "[1, 125, 64]\n"
     ]
    }
   ],
   "source": [
    "#2.Display any 3 cubic numbers\n",
    "natural_numbers=[1,5,4]\n",
    "cubes=[x**3 for x in natural_numbers]\n",
    "print(cubes)\n"
   ]
  },
  {
   "cell_type": "code",
   "execution_count": null,
   "id": "c7a3db0a-cea1-48fb-b33f-e98d693b5f35",
   "metadata": {},
   "outputs": [],
   "source": [
    "\n",
    "#2.write a program to remove duplicate characters from a string\n",
    "#3.write a program to create a new list that contains only even numbers from an existing list\n",
    "#4.Find the frequency of each element in the list\n",
    "#5.Finnd the max product of two integers in a list "
   ]
  },
  {
   "cell_type": "code",
   "execution_count": 215,
   "id": "994a8865-3a24-4114-ad52-3d8f5bb6caf4",
   "metadata": {},
   "outputs": [
    {
     "name": "stdin",
     "output_type": "stream",
     "text": [
      "Enter one sentence= zahid ahmed\n"
     ]
    },
    {
     "name": "stdout",
     "output_type": "stream",
     "text": [
      "Zahid ahmed\n",
      "Zahid Ahmed\n"
     ]
    }
   ],
   "source": [
    "#1.write a program that capitalizes the first letter of each word in a sentence\n",
    "str=input(\"Enter one sentence=\")\n",
    "print(str.capitalize())                     #It will capitalize the first letter of the sentence\n",
    "print(str.title())                          #it will capitalize the first letter of each word in the sentence"
   ]
  },
  {
   "cell_type": "markdown",
   "id": "a4c8aeae-b28e-48dc-a928-d866fe4143dd",
   "metadata": {},
   "source": [
    "**TUPLE**"
   ]
  },
  {
   "cell_type": "markdown",
   "id": "efff3c93-c580-4ed1-8d5e-a0db6cf0e576",
   "metadata": {},
   "source": [
    "Tuple is a sequence of items separated by commas and the items are enclosed in parenthesis().\n",
    "ATuple is an ordered sequence of elements of different data types such aas integer,float,string,list or even a tuple.\n",
    "when we assign multiple values in a variable,then that is not a variable.It is called a Tuple."
   ]
  },
  {
   "cell_type": "code",
   "execution_count": 10,
   "id": "2b34b3a5-aa11-4c72-9020-a0067633ab6b",
   "metadata": {},
   "outputs": [
    {
     "name": "stdout",
     "output_type": "stream",
     "text": [
      "(20, 'ZAHID', 6.5, False)\n",
      "ITS TYPE IS <class 'tuple'>\n"
     ]
    }
   ],
   "source": [
    "#1.Create a tuple and Display the elements of the Tuple and also find its type.\n",
    "tuple_elements=20,\"ZAHID\",6.5,False\n",
    "print(tuple_elements)\n",
    "print(\"ITS TYPE IS\",type(tuple_elements))"
   ]
  },
  {
   "cell_type": "code",
   "execution_count": 52,
   "id": "5f5b5c88-4487-4bc2-b728-20a0b1fba8b4",
   "metadata": {},
   "outputs": [
    {
     "data": {
      "text/plain": [
       "(10, 3098, 367, 1826)"
      ]
     },
     "execution_count": 52,
     "metadata": {},
     "output_type": "execute_result"
    }
   ],
   "source": [
    "#2.Create a tuple of Integers\n",
    "tuple1=(10,3098,367,1826)\n",
    "tuple1"
   ]
  },
  {
   "cell_type": "code",
   "execution_count": 56,
   "id": "1ee725fc-729a-49a4-9285-45faebd24e64",
   "metadata": {},
   "outputs": [
    {
     "name": "stdout",
     "output_type": "stream",
     "text": [
      "('Mathematics', 97, 'Computers', 98.4)\n"
     ]
    }
   ],
   "source": [
    "#3.Create a tuple of Mixed Data types\n",
    "tuple2=('Mathematics',97,'Computers',98.4)\n",
    "print(tuple2)"
   ]
  },
  {
   "cell_type": "code",
   "execution_count": 60,
   "id": "1d1284bc-99d5-4049-bc8d-e4e29130f3cd",
   "metadata": {},
   "outputs": [
    {
     "name": "stdout",
     "output_type": "stream",
     "text": [
      "('ZAHID', 30, [39, 'Ahmed'])\n"
     ]
    }
   ],
   "source": [
    "#4.Create a tuple With List as an elements\n",
    "tuple3=(\"ZAHID\",30,[39,\"Ahmed\"])\n",
    "print(tuple3)"
   ]
  },
  {
   "cell_type": "code",
   "execution_count": 62,
   "id": "bd6a3cb9-eefe-45d2-b08d-7f1da722bdf9",
   "metadata": {},
   "outputs": [
    {
     "name": "stdout",
     "output_type": "stream",
     "text": [
      "(1, 2, 3, (10, 20))\n"
     ]
    }
   ],
   "source": [
    "#5.Create a tuple With tuple as an elements\n",
    "tuple4=(1,2,3,(10,20))\n",
    "print(tuple4)"
   ]
  },
  {
   "cell_type": "code",
   "execution_count": 72,
   "id": "9e7f2e66-6d9a-4cca-9b18-1eb384c70b65",
   "metadata": {},
   "outputs": [
    {
     "data": {
      "text/plain": [
       "'Computers'"
      ]
     },
     "execution_count": 72,
     "metadata": {},
     "output_type": "execute_result"
    }
   ],
   "source": [
    "#6.Access the 3rd Element from the created tuple2.\n",
    "tuple2[2]"
   ]
  },
  {
   "cell_type": "code",
   "execution_count": 74,
   "id": "9a0b769b-2126-4502-a602-88cd51598134",
   "metadata": {},
   "outputs": [
    {
     "data": {
      "text/plain": [
       "'Computers'"
      ]
     },
     "execution_count": 74,
     "metadata": {},
     "output_type": "execute_result"
    }
   ],
   "source": [
    "#7.Access the last second element from the tuple2.\n",
    "tuple2[-2]"
   ]
  },
  {
   "cell_type": "code",
   "execution_count": null,
   "id": "f9a008c3-a48e-46e4-a095-e29b336f6144",
   "metadata": {},
   "outputs": [],
   "source": []
  },
  {
   "cell_type": "code",
   "execution_count": 224,
   "id": "918da3e1-394e-484a-bf4b-ca1422e0b910",
   "metadata": {},
   "outputs": [
    {
     "name": "stdout",
     "output_type": "stream",
     "text": [
      "['__add__', '__class__', '__class_getitem__', '__contains__', '__delattr__', '__dir__', '__doc__', '__eq__', '__format__', '__ge__', '__getattribute__', '__getitem__', '__getnewargs__', '__getstate__', '__gt__', '__hash__', '__init__', '__init_subclass__', '__iter__', '__le__', '__len__', '__lt__', '__mul__', '__ne__', '__new__', '__reduce__', '__reduce_ex__', '__repr__', '__rmul__', '__setattr__', '__sizeof__', '__str__', '__subclasshook__', 'count', 'index']\n"
     ]
    }
   ],
   "source": [
    "print(dir(tuple))\n"
   ]
  },
  {
   "cell_type": "markdown",
   "id": "e7274fd4-ef27-4436-bb96-0881a70d29b3",
   "metadata": {},
   "source": [
    "**SET**"
   ]
  },
  {
   "cell_type": "code",
   "execution_count": null,
   "id": "9a20b767-0e49-478b-ac38-d2dbd607539b",
   "metadata": {},
   "outputs": [],
   "source": [
    "Set is an unordered,mutable(changeable) collection of unique elements.\n",
    "sets are defined by enclosing comma separated sequence of elements in curly braces or using the built in set constructor"
   ]
  },
  {
   "cell_type": "code",
   "execution_count": 22,
   "id": "a2f632db-b9a0-414e-8f82-cd2f16e27476",
   "metadata": {},
   "outputs": [
    {
     "name": "stdout",
     "output_type": "stream",
     "text": [
      "{'15-05-1994', True, 'ZAHID', 30.5, 'AHMED', 30}\n"
     ]
    }
   ],
   "source": [
    "#Create a Set and Display the Elements of the Set\n",
    "set_elements={\"ZAHID\",\"AHMED\",\"AHMED\",'15-05-1994',True,30.5,30}\n",
    "print(set_elements)"
   ]
  },
  {
   "cell_type": "code",
   "execution_count": 219,
   "id": "7837032b-f72a-4a6f-8195-2ec6578c5c51",
   "metadata": {},
   "outputs": [
    {
     "name": "stdout",
     "output_type": "stream",
     "text": [
      "{1, 2, 3, 5}\n"
     ]
    }
   ],
   "source": [
    "my_set={1,2,3,5}\n",
    "print(my_set)"
   ]
  },
  {
   "cell_type": "markdown",
   "id": "2246db87-6789-4994-93af-42339718bffd",
   "metadata": {},
   "source": [
    "**DICTIONARY**"
   ]
  },
  {
   "cell_type": "code",
   "execution_count": 45,
   "id": "8d3cca64-4c01-4968-afbd-8c2ce8e34f5d",
   "metadata": {},
   "outputs": [
    {
     "name": "stdout",
     "output_type": "stream",
     "text": [
      "{'Name': 'ZAHID', 'AGE': 30, 'GENDER': 'M', 'PROFESSION': 'DATA ANALYST'}\n"
     ]
    }
   ],
   "source": [
    "#1.Create a Dictionary and display it\n",
    "dict={\"Name\":\"ZAHID\",\n",
    "      \"AGE\":30,\n",
    "      \"GENDER\":\"M\",\n",
    "      \"PROFESSION\":\"DATA ANALYST\"\n",
    "     }\n",
    "print(dict)"
   ]
  },
  {
   "cell_type": "code",
   "execution_count": 47,
   "id": "061827ae-a657-4612-9696-552df5f9ef3b",
   "metadata": {},
   "outputs": [
    {
     "name": "stdout",
     "output_type": "stream",
     "text": [
      "30\n"
     ]
    }
   ],
   "source": [
    "print(dict['AGE'])"
   ]
  },
  {
   "cell_type": "markdown",
   "id": "1c7cc0fd-d3ac-4369-b2ec-a061cf5f4730",
   "metadata": {},
   "source": [
    "**CLASSES**"
   ]
  },
  {
   "cell_type": "code",
   "execution_count": 63,
   "id": "3ebc17bc-62d6-43b5-aeec-426e2830e743",
   "metadata": {},
   "outputs": [
    {
     "name": "stdout",
     "output_type": "stream",
     "text": [
      "The Funny sonng from the new movie stars Alia Bhat,Ranbhir Kapoor and kapil sharma.It is Sung by Sharukh khan and choreographed by Farah khan.\n",
      "The imdb ratings given to the song is 3.5,which is good.\n"
     ]
    }
   ],
   "source": [
    "#1.Create a Class Bollywood with 2 different methods and call them.\n",
    "class Bollywood:\n",
    "   Singer=\"SALMAN KHAN\"\n",
    "   Choreographer=\"Remo De Souza\"\n",
    "   Comedian=\"Rajpal Yadav\"\n",
    "   actress=\"Alia Bhat\"\n",
    "   Actor=\"Ranbhir Kapoor\"\n",
    "   imdb=3.5\n",
    "   def show_info(self):                                       #Method-1\n",
    "       print(f'The Funny song from the new movie stars {self.actress},{self.Actor} and {self.Comedian}.It is Sung by {self.Singer} and choreographed by {self.Choreographer}.')\n",
    "   def song_review(self):                                     #Method-2\n",
    "       print(f'The imdb ratings given to the song is {self.imdb},which is good.')\n",
    "#We have to create an object so that we can use the attributesand methods outside the class.\n",
    "obj1=Bollywood()\n",
    "obj1.Singer=\"Sharukh khan\"\n",
    "obj1.Comedian=\"kapil sharma\"\n",
    "obj1.Choreographer='Farah khan'\n",
    "obj1.show_info()\n",
    "obj1.song_review()\n",
    "    "
   ]
  },
  {
   "cell_type": "code",
   "execution_count": 73,
   "id": "fbc4d75d-fc78-4602-b02b-848054cd1118",
   "metadata": {},
   "outputs": [
    {
     "name": "stdout",
     "output_type": "stream",
     "text": [
      "The Good Bowler is M.S Dhoni\n",
      "The good Batsmen is Sachin Tendulkar\n"
     ]
    }
   ],
   "source": [
    "#2.Create a class\n",
    "class Cricket:\n",
    "    Bowler=\"R Ashwin\"\n",
    "    Batsman=\"Sachin Tendulkar\"\n",
    "    Umpire=\"Nitin Menon\"\n",
    "    Audience=\"Sharukh Khan\"\n",
    "    Salary=3000\n",
    "    def good_bowler(self):\n",
    "        print(\"The Good Bowler is\",self.Bowler)\n",
    "    def good_batsmen(self):\n",
    "        print(\"The good Batsmen is\",self.Batsman)\n",
    "\n",
    "obj1=Cricket()\n",
    "obj1.Bowler=\"M.S Dhoni\"\n",
    "obj1.good_bowler()\n",
    "obj1.good_batsmen()\n",
    "    "
   ]
  },
  {
   "cell_type": "code",
   "execution_count": 77,
   "id": "a73b180d-7e2d-43ca-b45e-4e52bc2447c4",
   "metadata": {},
   "outputs": [
    {
     "name": "stdout",
     "output_type": "stream",
     "text": [
      "The Movie released in the year 2024 is 3 idiots And the Hero in this movie is AMIR KHAN\n",
      "The Salary of each Model in the movies is 90000\n"
     ]
    }
   ],
   "source": [
    "#3.Create a class and define the objects outside the methods\n",
    "class Movies:\n",
    "    Hero=\"SALMAN KHAN\"                          #Variables/Attributes defined outside the method\n",
    "    Heroine=\"ARYA BHATT\"\n",
    "    Director=\"Rohhit Shetty\"\n",
    "    Producer=\"Vinky pandey\"\n",
    "    Writer=\"Champty pandey\"\n",
    "    Dialogue=\"Johny Lever\"\n",
    "    villain=\"Rana\"\n",
    "    bookmyshow=9.8\n",
    "    movie=\"3 idiots\"\n",
    "    def film(self):                             # creating a Method-1\n",
    "        print(\"The Movie released in the year 2024 is\", self.movie,\"And the Hero in this movie is\", self.Hero)\n",
    "    def financially(self):                       # creating a Method-1\n",
    "        print(\"The Salary of each Model in the movies is\",self.salary)\n",
    "\n",
    "obj1=Movies()\n",
    "obj1.Hero=\"AMIR KHAN\"\n",
    "obj1.salary=90000                                   #Variables/Attributes defined outside the class\n",
    "obj1.film()\n",
    "obj1.financially()\n"
   ]
  },
  {
   "cell_type": "code",
   "execution_count": 83,
   "id": "ba742ed9-764d-4cf2-9fef-7ef1b98f8b99",
   "metadata": {},
   "outputs": [
    {
     "name": "stdin",
     "output_type": "stream",
     "text": [
      "Enter your name ZAHID\n",
      "Enter Your Registration Number U19DE23E0024\n",
      "Enter Your Age 30\n",
      "Enter The course selected DATA ANALYTICS\n",
      "Enter the course duration 6 MONTHS\n",
      "Enter the state BANGALORE\n"
     ]
    },
    {
     "name": "stdout",
     "output_type": "stream",
     "text": [
      "ZAHID has applied for the course DATA ANALYTICS and for the duration of 6 MONTHS and belongs to the state  BANGALORE\n"
     ]
    }
   ],
   "source": [
    "#4.Create a class and define the objects inside the methods\n",
    "class Student:\n",
    "    def set_data(self):\n",
    "        self.name=input(\"Enter your name\")\n",
    "        self.id=input(\"Enter Your Registration Number\")\n",
    "        self.age=input(\"Enter Your Age\")\n",
    "        self.course=input(\"Enter The course selected\")\n",
    "        self.duration=input(\"Enter the course duration\")\n",
    "        self.state=input(\"Enter the state\")\n",
    "    def show_info(self):\n",
    "        print(f'{self.name} has applied for the course {self.course} and for the duration of {self.duration} and belongs to the state  {self.state}')\n",
    "\n",
    "#create the object student\n",
    "first=Student()\n",
    "first.set_data()\n",
    "first.show_info()"
   ]
  },
  {
   "cell_type": "markdown",
   "id": "bae7e6a5-efb9-4e9b-971d-85f7f7905853",
   "metadata": {},
   "source": [
    "**__init__Constructor=If we donot access the method outside the class,this constructor will automatically call the method**"
   ]
  },
  {
   "cell_type": "code",
   "execution_count": 110,
   "id": "0c4dbcc0-0c3a-4d9f-bfea-101839820fdd",
   "metadata": {},
   "outputs": [
    {
     "name": "stdin",
     "output_type": "stream",
     "text": [
      "Enter your name z\n",
      "Enter Your Registration Number z\n",
      "Enter Your Age z\n",
      "Enter The course selected z\n",
      "Enter the course duration z\n",
      "Enter the state zz\n"
     ]
    },
    {
     "name": "stdout",
     "output_type": "stream",
     "text": [
      "z has applied for the course z and for the duration of z and belongs to the state  zz\n"
     ]
    }
   ],
   "source": [
    "#5.Create a class with non paramerterized constructor\n",
    "class Student:\n",
    "    def __init__(self):                                      #NON PARAMETERIZED CONSTRUCTOR\n",
    "        self.name=input(\"Enter your name\")\n",
    "        self.id=input(\"Enter Your Registration Number\")\n",
    "        self.age=input(\"Enter Your Age\")\n",
    "        self.course=input(\"Enter The course selected\")\n",
    "        self.duration=input(\"Enter the course duration\")\n",
    "        self.state=input(\"Enter the state\")\n",
    "    def show_info(self):\n",
    "        print(f'{self.name} has applied for the course {self.course} and for the duration of {self.duration} and belongs to the state  {self.state}')\n",
    "\n",
    "#create the object student\n",
    "first=Student()\n",
    "#first.set_data()        IF WE DONT USE THIS FUNCTION IT WILL GIVE AN ATTRIBUTE ERROR,SO INSTEAD OF THIS WE USE __INIT__CONSTRUCTOR\n",
    "first.show_info()"
   ]
  },
  {
   "cell_type": "markdown",
   "id": "6043747e-25a2-4e73-91d0-ca2bbee87305",
   "metadata": {},
   "source": [
    "**INHERITANCE**"
   ]
  },
  {
   "cell_type": "markdown",
   "id": "493a3d68-94f6-4926-9325-eeb2b40bc246",
   "metadata": {},
   "source": [
    "**SINGLE LEVEL INHERITANCE**"
   ]
  },
  {
   "cell_type": "code",
   "execution_count": null,
   "id": "2cb9be95-be39-4806-b84b-d17fccbf0ce1",
   "metadata": {},
   "outputs": [],
   "source": []
  },
  {
   "cell_type": "code",
   "execution_count": null,
   "id": "a13ace6e-622f-4068-b8a5-cfd2662ce497",
   "metadata": {},
   "outputs": [],
   "source": [
    "In the below code,I have created 2 classes Named State and City.And there are some attributes defined inside the class.\n",
    "And these attributes are used in the function definition"
   ]
  },
  {
   "cell_type": "code",
   "execution_count": 16,
   "id": "80f92f03-058e-4716-805c-1bd8acaafe20",
   "metadata": {},
   "outputs": [
    {
     "name": "stdout",
     "output_type": "stream",
     "text": [
      "The Capital of Mysore is Karnataka\n",
      "The Capital of Mysore is Karnataka\n",
      "He Stays near by Arabic College in K.G Halli, and is from the state Mysore\n"
     ]
    }
   ],
   "source": [
    "class State:                                #Base class(parent class)\n",
    "    state=\"Mysore\"\n",
    "    Capital=\"Karnataka\"\n",
    "    Region=\"North\"\n",
    "    def show_info(self):                    #Method with no parameter\n",
    "        print(f'The Capital of {self.state} is {self.Capital}')\n",
    "class City(State):                          #Derived Class(Child Class)\n",
    "    city=\"Bnaglore\"\n",
    "    Area=\"K.G Halli\"\n",
    "    Location=\"Arabic College\"\n",
    "    def city_info(self):                    #Method with no parameter\n",
    "        print(f'He Stays near by {self.Location} in {self.Area}, and is from the state {self.state}')\n",
    "S1=State()\n",
    "S1.show_info()                #object of parent class is accesiing the methods from its (parent) class itself\n",
    "c1=City()                     #Creation of objects\n",
    "c1.show_info()                #object of child class is accesiing the methods from parent class\n",
    "c1.city_info()"
   ]
  },
  {
   "cell_type": "markdown",
   "id": "587ffb62-421b-4bd2-823e-75e0f7927bd1",
   "metadata": {},
   "source": [
    "**HIERARCHIAL INHERITANCE**"
   ]
  },
  {
   "cell_type": "code",
   "execution_count": 23,
   "id": "9d0f5c93-35f0-4642-b6cf-8d2d46eae0fc",
   "metadata": {},
   "outputs": [
    {
     "name": "stdout",
     "output_type": "stream",
     "text": [
      "The carToyota is having the mileage24kms/hr whose color is Red\n",
      "The new car belongs to hyundai motors\n"
     ]
    }
   ],
   "source": [
    "class Car:\n",
    "    mileage=\"24kms/hr\"\n",
    "    color=\"Red\"\n",
    "    Speed=\"120 kms\"\n",
    "    def car_info(self):\n",
    "        self.name=\"Toyota\"\n",
    "        print(f'The car{self.name} is having the mileage{self.mileage} whose color is {self.color}')\n",
    "\n",
    "class Mahindra(Car):\n",
    "    def mah_info(self):\n",
    "        print(f'The new car belongs to mahindra motors')\n",
    "class Hyundai(Car):\n",
    "    def hyun_info(self):\n",
    "        print(f'The new car belongs to hyundai motors')\n",
    "\n",
    "c1=Car()\n",
    "M1=Mahindra()\n",
    "H1=Hyundai()\n",
    "M1.car_info()               #child class is accessing the members/method of  the parent class\n",
    "H1.hyun_info()              #child class is accessing the members/method of its class itself"
   ]
  },
  {
   "cell_type": "markdown",
   "id": "191d4b75-ace5-499a-afc7-d65a34d98efa",
   "metadata": {},
   "source": [
    "**MULTILEVEL INNHERITANCE**"
   ]
  },
  {
   "cell_type": "code",
   "execution_count": 42,
   "id": "df8beef2-a0cb-4c06-8eef-e5b12c4ea5e7",
   "metadata": {},
   "outputs": [
    {
     "name": "stdout",
     "output_type": "stream",
     "text": [
      "I am B\n",
      "I am A\n",
      "I am C\n",
      "I am A\n",
      "I am B\n",
      "I am A\n"
     ]
    }
   ],
   "source": [
    "class A:\n",
    "    def A(self):\n",
    "        print(\"I am A\")\n",
    "\n",
    "class B(A):\n",
    "    def B(self):\n",
    "        print(\"I am B\")\n",
    "\n",
    "class C(B):\n",
    "    def C(self):\n",
    "        print(\"I am C\")\n",
    "\n",
    "c1=C()                           #Creating 3 objects\n",
    "b1=B()\n",
    "a1=A()\n",
    "c1.B()                         # Grand child can access the parent class\n",
    "c1.A()                         # Grand child can access the Grand parent class\n",
    "c1.C()                         # Grand child can access its own class\n",
    "b1.A()                         #parent class can access the methods of the Grand parent class\n",
    "b1.B()                         #parent class can access the methods of its own class\n",
    "#b1.C()                        #parent class cannot access the methods of the child class\n",
    "a1.A()                         #Grand parent class can access its own class\n",
    "#a1.B()                         #Grand parent class cannot access its derived(base1) class\n",
    "#a1.C()                         #Grand parent class cannot access its grand child class"
   ]
  },
  {
   "cell_type": "markdown",
   "id": "87743aa2-14e2-4e46-bf44-d804beb7d030",
   "metadata": {},
   "source": [
    "**MULTIPLE INHERITANCE**"
   ]
  },
  {
   "cell_type": "code",
   "execution_count": 51,
   "id": "aecf8a32-911c-49ee-a0b0-c063a7cf0e5b",
   "metadata": {},
   "outputs": [
    {
     "name": "stdout",
     "output_type": "stream",
     "text": [
      "Iam father\n",
      "I am Mother\n",
      "I am son/Daughter of the parent\n"
     ]
    }
   ],
   "source": [
    "class parent1:\n",
    "    def dad(self):\n",
    "        print(\"Iam father\")\n",
    "\n",
    "class parent2:\n",
    "    def mom(self):\n",
    "        print(\"I am Mother\")\n",
    "\n",
    "class child(parent1,parent2):\n",
    "    def child(self):\n",
    "        print(\"I am son/Daughter of the parent\")\n",
    "\n",
    "c1=child()\n",
    "c1.dad()\n",
    "c1.mom()\n",
    "c1.child()"
   ]
  },
  {
   "cell_type": "markdown",
   "id": "c6bb8118-3f20-4ccf-95bd-672b87b06bd0",
   "metadata": {},
   "source": [
    "**HYBRID INHERITANCE**\n"
   ]
  },
  {
   "cell_type": "markdown",
   "id": "553b7929-170c-4be1-b83f-73b3061fce9c",
   "metadata": {},
   "source": [
    "Hybrid Inheritance is the combination of all other types of Inheritances"
   ]
  },
  {
   "cell_type": "code",
   "execution_count": 72,
   "id": "c30b72f4-3d1d-473e-b3ac-7306542f1cd0",
   "metadata": {},
   "outputs": [
    {
     "name": "stdout",
     "output_type": "stream",
     "text": [
      "C\n"
     ]
    }
   ],
   "source": [
    "class A:\n",
    "    def A_info(self):\n",
    "        print(\"A\")\n",
    "\n",
    "class B(A):\n",
    "    def B_info(self):\n",
    "        print(\"B\")\n",
    "\n",
    "class C(A):\n",
    "    def C_info(self):\n",
    "        print(\"C\")\n",
    "\n",
    "class D(A):\n",
    "    def D_info(self):\n",
    "        print(\"D\")\n",
    "\n",
    "class E(C):\n",
    "    def E_info(self):\n",
    "        print(\"E\")\n",
    "\n",
    "e1=E()\n",
    "e1.C_info()\n",
    "\n",
    "#Hybrid inheritance:combinations\n",
    "#Single level Inheritance:(A,B),(A,C),(D,A),(D,B),(E,C)\n",
    "#Multilevel inheritance:(A,B,D),(A,C,E)\n",
    "#Hierarchial Inheritance:(A,B,C),(A,C,D)\n",
    "#Multiple Inheritance:(A,B,D)"
   ]
  },
  {
   "cell_type": "code",
   "execution_count": 74,
   "id": "51b6f929-6d4f-4958-9f4c-8472fc79e896",
   "metadata": {},
   "outputs": [
    {
     "name": "stdout",
     "output_type": "stream",
     "text": [
      "I am son/Daughter of the parent\n"
     ]
    }
   ],
   "source": [
    "#METHOD RESOLUTION ORDER-Methods of same names in more than one classes\n",
    "class parent1:\n",
    "    def info(self):\n",
    "        print(\"Iam father\")\n",
    "\n",
    "class parent2:\n",
    "    def info(self):\n",
    "        print(\"I am Mother\")\n",
    "\n",
    "class child(parent1,parent2):\n",
    "    def info(self):\n",
    "        print(\"I am son/Daughter of the parent\")\n",
    "\n",
    "c1=child()\n",
    "c1.info()"
   ]
  },
  {
   "cell_type": "code",
   "execution_count": 80,
   "id": "9fe8bf50-624d-4d7d-aa63-f4bcce864aab",
   "metadata": {},
   "outputs": [
    {
     "name": "stdout",
     "output_type": "stream",
     "text": [
      "I am son of the parent\n",
      "Iam father\n"
     ]
    }
   ],
   "source": [
    "#METHOD RESOLUTION ORDER-Methods of same names in more than one classes\n",
    "class parent1:\n",
    "    def info(self):\n",
    "        print(\"Iam father\")\n",
    "    def new_info(self):\n",
    "        print(\"I am Mother\")\n",
    "class parent2:\n",
    "    def info(self):\n",
    "        print(\"I am Mother\")\n",
    "    def new_info(self):\n",
    "        print(\"I am father\")\n",
    "class son(parent1,parent2):\n",
    "    def info(self):\n",
    "        print(\"I am son of the parent\")\n",
    "\n",
    "class daughter(parent1,parent2):\n",
    "    def new_info(self):\n",
    "        print(\"I am Daughter of the parent\")\n",
    "\n",
    "c1=son()\n",
    "c1.info()\n",
    "c2=daughter()\n",
    "c2.info()"
   ]
  },
  {
   "cell_type": "markdown",
   "id": "91b430ba-4fdf-4da5-9702-9de56084dfda",
   "metadata": {},
   "source": [
    "**SUPER()KEY-works well with inheritance and polymorphism**"
   ]
  },
  {
   "cell_type": "code",
   "execution_count": 88,
   "id": "f84d8837-b8f8-466f-a492-24d93a6ec552",
   "metadata": {},
   "outputs": [
    {
     "name": "stdout",
     "output_type": "stream",
     "text": [
      "MOvies should not exceed 130 minutes\n",
      "Available in English Subtitles in urdu\n"
     ]
    }
   ],
   "source": [
    "class Movies:\n",
    "    def show_info(self):\n",
    "        print(\"MOvies should not exceed 130 minutes\")\n",
    "\n",
    "class Bollywood(Movies):\n",
    "    def show_info(self):\n",
    "        super().show_info()\n",
    "        print(\"Available in English Subtitles in urdu\")\n",
    "\n",
    "obj=Bollywood()\n",
    "obj.show_info()"
   ]
  },
  {
   "cell_type": "code",
   "execution_count": 96,
   "id": "bd273251-09ff-41da-a67b-2a20264fa8b4",
   "metadata": {},
   "outputs": [
    {
     "name": "stdout",
     "output_type": "stream",
     "text": [
      "Movie should not exceed 120 minutes in length.\n",
      "Available in all languages.\n"
     ]
    }
   ],
   "source": [
    "class Indian_Cinema:\n",
    "    def show_info_1(self,max_limit):     #parametrized\n",
    "        self.max_limit = max_limit            #create attribute inside the method\n",
    "        print(f'Movie should not exceed {self.max_limit} minutes in length.')\n",
    "    def show_info_2(self):\n",
    "        print(\"It got a U/A certificate.\")\n",
    "        \n",
    "class South_Cinema(Indian_Cinema):\n",
    "    def show_info_1(self):\n",
    "        super().show_info_1(120)        #no of parameters will decide the number of values.\n",
    "        print(\"Available in all languages.\")\n",
    "    def show_info_2(self):\n",
    "        print(\"South Cinema matches the level of International cinema.\")\n",
    "        \n",
    "        \n",
    "obj = South_Cinema()\n",
    "obj.show_info_1()\n",
    "\n",
    "#super() key: we can call the methods from the base classes having the same name."
   ]
  },
  {
   "cell_type": "code",
   "execution_count": 98,
   "id": "97c02b46-4fb5-425e-909e-9a1afe4a0a8b",
   "metadata": {},
   "outputs": [
    {
     "name": "stdout",
     "output_type": "stream",
     "text": [
      "['__add__', '__class__', '__class_getitem__', '__contains__', '__delattr__', '__delitem__', '__dir__', '__doc__', '__eq__', '__format__', '__ge__', '__getattribute__', '__getitem__', '__getstate__', '__gt__', '__hash__', '__iadd__', '__imul__', '__init__', '__init_subclass__', '__iter__', '__le__', '__len__', '__lt__', '__mul__', '__ne__', '__new__', '__reduce__', '__reduce_ex__', '__repr__', '__reversed__', '__rmul__', '__setattr__', '__setitem__', '__sizeof__', '__str__', '__subclasshook__', 'append', 'clear', 'copy', 'count', 'extend', 'index', 'insert', 'pop', 'remove', 'reverse', 'sort']\n"
     ]
    }
   ],
   "source": [
    "print(dir(list))"
   ]
  },
  {
   "cell_type": "markdown",
   "id": "cdc3ee1a-72c8-4869-a642-78b3a1661e00",
   "metadata": {},
   "source": [
    "**ENCAPSULATION**"
   ]
  },
  {
   "cell_type": "code",
   "execution_count": 22,
   "id": "7e469446-2489-44ee-ba9f-966707c7efe1",
   "metadata": {},
   "outputs": [
    {
     "name": "stdout",
     "output_type": "stream",
     "text": [
      "ZAHID and AHMED are colleagues\n",
      "outside the class: ZAHID\n",
      "outside the class: AHMED\n"
     ]
    }
   ],
   "source": [
    "#PUBLIC ACCESS SPECIFIER\n",
    "class A:\n",
    "    a=\"ZAHID\"                        #1st variable in class A  is PUBLIC\n",
    "    b=\"AHMED\"                        #2nd variable in class A  is PUBLIC\n",
    "    def con_str(self):               #Method of the class A is also public,that means which can be used outside the class\n",
    "        print(f'{self.a} and {self.b} are colleagues')\n",
    "\n",
    "class B(A):\n",
    "    def con_str(self):\n",
    "        print(f'{self.a} and {self.b} are Best Friends For ever')\n",
    "\n",
    "obj=A()\n",
    "obj.con_str()\n",
    "print(\"outside the class:\",obj.a)                           #CALLING THE VARIBLES OUTSIDE THE CLASS.YES WE CAN CALL,SINCE IT IS PUBLIC\n",
    "print(\"outside the class:\",obj.b)"
   ]
  },
  {
   "cell_type": "code",
   "execution_count": 34,
   "id": "10aa66b1-5874-430e-b4db-4c16a6ad28ac",
   "metadata": {},
   "outputs": [
    {
     "name": "stdout",
     "output_type": "stream",
     "text": [
      "ZAHID and AHMED are colleagues\n",
      "outside the class: ZAHID\n",
      "outside the class: AHMED\n"
     ]
    }
   ],
   "source": [
    "#PROTECTED ACCESS SPECIFIER\n",
    "class A:\n",
    "    _a=\"ZAHID\"                        #1st variable in class A  is PROTECTED SINCE THERE IS A UNDERSCORE AT THE BEGININNG\n",
    "    _b=\"AHMED\"                        #2nd variable in class A  is PROTECTED SINCE THERE IS A UNDERSCORE AT THE BEGININNG\n",
    "    def _con_str(self):               #Method of the class A is also public,that means which can be used outside the class\n",
    "        print(f'{self._a} and {self._b} are colleagues')\n",
    "\n",
    "class B(A):\n",
    "    def con_str(self):\n",
    "        super()._con_str()\n",
    "        print(f'{self.a} and {self.b} are Best Friends For ever')\n",
    "\n",
    "obj=B()                                                     #CREATING AN OBJECT OF B CLASS\n",
    "obj._con_str()\n",
    "print(\"outside the class:\",obj._a)                           #CALLING THE VARIBLES OUTSIDE THE CLASS.YES WE CAN CALL,SINCE IT IS PUBLIC\n",
    "print(\"outside the class:\",obj._b)\n",
    "#WE CAN CALL THE PROTECTED ATTRIBUTES OR METHODS OUTSIDE THE CLASS NOT ONLY WITH THE OBJECT OF SAME CLASS\n",
    "#BUT ALSO WITH THE OBJECTS OF INHERITED CLASS"
   ]
  },
  {
   "cell_type": "code",
   "execution_count": 49,
   "id": "aa1ccf34-3e9e-4506-89ad-3432ddf85e1d",
   "metadata": {},
   "outputs": [
    {
     "ename": "AttributeError",
     "evalue": "'super' object has no attribute '_B__con_str'",
     "output_type": "error",
     "traceback": [
      "\u001b[1;31m---------------------------------------------------------------------------\u001b[0m",
      "\u001b[1;31mAttributeError\u001b[0m                            Traceback (most recent call last)",
      "Cell \u001b[1;32mIn[49], line 14\u001b[0m\n\u001b[0;32m     11\u001b[0m         \u001b[38;5;28mprint\u001b[39m(\u001b[38;5;124mf\u001b[39m\u001b[38;5;124m'\u001b[39m\u001b[38;5;132;01m{\u001b[39;00m\u001b[38;5;28mself\u001b[39m\u001b[38;5;241m.\u001b[39ma\u001b[38;5;132;01m}\u001b[39;00m\u001b[38;5;124m and \u001b[39m\u001b[38;5;132;01m{\u001b[39;00m\u001b[38;5;28mself\u001b[39m\u001b[38;5;241m.\u001b[39mb\u001b[38;5;132;01m}\u001b[39;00m\u001b[38;5;124m are Best Friends For ever\u001b[39m\u001b[38;5;124m'\u001b[39m)\n\u001b[0;32m     13\u001b[0m obj\u001b[38;5;241m=\u001b[39mB()                                                     \u001b[38;5;66;03m#CREATING AN OBJECT OF B CLASS\u001b[39;00m\n\u001b[1;32m---> 14\u001b[0m obj\u001b[38;5;241m.\u001b[39mcon_str()\n\u001b[0;32m     15\u001b[0m \u001b[38;5;28mprint\u001b[39m(\u001b[38;5;124m\"\u001b[39m\u001b[38;5;124moutside the class:\u001b[39m\u001b[38;5;124m\"\u001b[39m,obj\u001b[38;5;241m.\u001b[39m__a)                           \u001b[38;5;66;03m#CALLING THE VARIBLES OUTSIDE THE CLASS.YES WE CAN CALL,SINCE IT IS PUBLIC\u001b[39;00m\n\u001b[0;32m     16\u001b[0m \u001b[38;5;28mprint\u001b[39m(\u001b[38;5;124m\"\u001b[39m\u001b[38;5;124moutside the class:\u001b[39m\u001b[38;5;124m\"\u001b[39m,obj\u001b[38;5;241m.\u001b[39m__b)\n",
      "Cell \u001b[1;32mIn[49], line 10\u001b[0m, in \u001b[0;36mB.con_str\u001b[1;34m(self)\u001b[0m\n\u001b[0;32m      9\u001b[0m \u001b[38;5;28;01mdef\u001b[39;00m \u001b[38;5;21mcon_str\u001b[39m(\u001b[38;5;28mself\u001b[39m):\n\u001b[1;32m---> 10\u001b[0m     \u001b[38;5;28msuper\u001b[39m()\u001b[38;5;241m.\u001b[39m__con_str()\n\u001b[0;32m     11\u001b[0m     \u001b[38;5;28mprint\u001b[39m(\u001b[38;5;124mf\u001b[39m\u001b[38;5;124m'\u001b[39m\u001b[38;5;132;01m{\u001b[39;00m\u001b[38;5;28mself\u001b[39m\u001b[38;5;241m.\u001b[39ma\u001b[38;5;132;01m}\u001b[39;00m\u001b[38;5;124m and \u001b[39m\u001b[38;5;132;01m{\u001b[39;00m\u001b[38;5;28mself\u001b[39m\u001b[38;5;241m.\u001b[39mb\u001b[38;5;132;01m}\u001b[39;00m\u001b[38;5;124m are Best Friends For ever\u001b[39m\u001b[38;5;124m'\u001b[39m)\n",
      "\u001b[1;31mAttributeError\u001b[0m: 'super' object has no attribute '_B__con_str'"
     ]
    }
   ],
   "source": [
    "#PRIVATE ACCESS SPECIFIER\n",
    "class A:\n",
    "    __a=\"ZAHID\"                        #1st variable in class A  is PROTECTED SINCE THERE IS A DOUBLE UNDERSCORE AT THE BEGININNG\n",
    "    __b=\"AHMED\"                        #2nd variable in class A  is PROTECTED SINCE THERE IS A DOUBLE UNDERSCORE AT THE BEGININNG\n",
    "    def __con_str(self):               #Method of the class A is PRIVATE\n",
    "        print(f'{self.__a} and {self.__b} are colleagues')\n",
    "\n",
    "class B(A):\n",
    "    def con_str(self):\n",
    "        super().__con_str()\n",
    "        print(f'{self.a} and {self.b} are Best Friends For ever')\n",
    "\n",
    "obj=B()                                                     #CREATING AN OBJECT OF B CLASS\n",
    "obj.con_str()\n",
    "print(\"outside the class:\",obj.__a)                           #CALLING THE VARIBLES OUTSIDE THE CLASS.YES WE CAN CALL,SINCE IT IS PUBLIC\n",
    "print(\"outside the class:\",obj.__b)\n",
    "#WE CAN CALL THE PUBLIC METHODS OF THE OBJECTS OF THE SAME CLASS\n",
    "#WE CANNOT CALL THE PRIVATE ATTRIBBUTES EVEN WITH THE OBJECT OF THE SAME CLASS"
   ]
  },
  {
   "cell_type": "markdown",
   "id": "8bd399e0-1c20-4aa1-adbe-1d6ae2131971",
   "metadata": {},
   "source": [
    "**POLYMORPHISM**\n"
   ]
  },
  {
   "cell_type": "markdown",
   "id": "18213470-de6f-468b-982a-2ed55bd81dd8",
   "metadata": {},
   "source": [
    "**Polymorphism is a property in which a method can do various functionalities using the same name.** "
   ]
  },
  {
   "cell_type": "code",
   "execution_count": 7,
   "id": "5637fcc0-2d57-4fe3-8721-6485fd2a0d47",
   "metadata": {},
   "outputs": [
    {
     "name": "stdout",
     "output_type": "stream",
     "text": [
      "ZAHID AHMED\n"
     ]
    }
   ],
   "source": [
    "#1.simplest example\n",
    "class A:\n",
    "    a = 10\n",
    "    b = 20\n",
    "    def show_info(self):\n",
    "        print(self.a+ self.b)\n",
    "        \n",
    "class B:\n",
    "    a = \"ZAHID\"\n",
    "    b = \"AHMED\"\n",
    "    def show_info(self):\n",
    "        print(self.a+\" \"+self.b)\n",
    "        \n",
    "obj2 = B()\n",
    "obj2.show_info()"
   ]
  },
  {
   "cell_type": "markdown",
   "id": "6016e1b2-d508-4f68-beb2-4f6c3da42325",
   "metadata": {},
   "source": [
    "**How Polymorphism can be achieved?**"
   ]
  },
  {
   "cell_type": "markdown",
   "id": "371cf7b4-844c-4102-b930-8cdcdc8837c7",
   "metadata": {},
   "source": [
    "**1. Method Overloading: You have to use just one class having multiple methods.Methods with the same name but different number of parameters.**"
   ]
  },
  {
   "cell_type": "markdown",
   "id": "d9655fee-e123-4700-a0ba-8d53158d43b5",
   "metadata": {},
   "source": [
    "**Whenever a class contains more than one methods with the same name but different number of parameters is called Method overloading.**"
   ]
  },
  {
   "cell_type": "code",
   "execution_count": 18,
   "id": "08117c65-f161-42b3-84a4-cd9acb2ce0a1",
   "metadata": {},
   "outputs": [
    {
     "name": "stdout",
     "output_type": "stream",
     "text": [
      "Welcome    \n"
     ]
    }
   ],
   "source": [
    "#2.\n",
    "class Greeting:\n",
    "    def show(self):\n",
    "        print(\"Welcome\")\n",
    "    def show(self,firstname  = \" \"):\n",
    "        print(\"Welcome\", firstname)\n",
    "    def show(self,firstname = \" \",lastname = \" \"):\n",
    "        print(\"Welcome\",firstname,lastname)\n",
    "        \n",
    "        \n",
    "obj = Greeting()\n",
    "obj.show()        #which method will be called depends on the actual values\n",
    "    "
   ]
  },
  {
   "cell_type": "code",
   "execution_count": 20,
   "id": "6c8259d7-504c-4d99-b920-73fb32f95135",
   "metadata": {},
   "outputs": [
    {
     "data": {
      "text/plain": [
       "7"
      ]
     },
     "execution_count": 20,
     "metadata": {},
     "output_type": "execute_result"
    }
   ],
   "source": [
    "#3.\n",
    "class Summation:\n",
    "    def display_sum(self,a = 0,b = 0):\n",
    "        return a+b\n",
    "    def display_sum(self,a = 0,b= 0,c= 0):\n",
    "        return a+b+c\n",
    "    \n",
    "    \n",
    "obj = Summation()\n",
    "obj.display_sum(2,5)\n",
    "    "
   ]
  },
  {
   "cell_type": "code",
   "execution_count": 22,
   "id": "5ad244bc-1c94-4f93-92c8-6bdaca808aea",
   "metadata": {},
   "outputs": [
    {
     "data": {
      "text/plain": [
       "'Zahid Ahmed-ASD123- '"
      ]
     },
     "execution_count": 22,
     "metadata": {},
     "output_type": "execute_result"
    }
   ],
   "source": [
    "#4.\n",
    "class Employee:\n",
    "    def emp_info(self,emp_id = \" \",emp_name = \" \"):\n",
    "        return emp_name + \"-\" + emp_id\n",
    "    def emp_info(self,emp_id = \" \",emp_name = \" \",emp_designation =\" \"):\n",
    "        return emp_name + \"-\"+ emp_id+\"-\"+emp_designation\n",
    "        \n",
    "inf = Employee()\n",
    "#inf.emp_info(\"ASD123\",\"Zahid Ahmed\",\"Analyst\")\n",
    "inf.emp_info(\"ASD123\",\"Zahid Ahmed\")"
   ]
  },
  {
   "cell_type": "markdown",
   "id": "cb766538-a1bc-4fc9-8efa-052c72a2325f",
   "metadata": {},
   "source": [
    "**2. Method Overriding**"
   ]
  },
  {
   "cell_type": "markdown",
   "id": "daea1f8e-eeb7-4c49-9ca1-6a08a62f5268",
   "metadata": {},
   "source": [
    "**Without Inheritance, Method overriding is not possible.Whenever we have the method of the same name in the parent and the child class.**"
   ]
  },
  {
   "cell_type": "code",
   "execution_count": 3,
   "id": "8a9ab5e7-e4ed-4e74-a8ef-d6c4cb531b6e",
   "metadata": {},
   "outputs": [
    {
     "name": "stdout",
     "output_type": "stream",
     "text": [
      "EduBridge has many departments.\n",
      "Training is one of the departments in EduBridge. Duration of training period is 6 months.\n"
     ]
    }
   ],
   "source": [
    "class EduBridge:\n",
    "    def info_display(self):\n",
    "        print(\"EduBridge has many departments.\")\n",
    "class Training(EduBridge):\n",
    "    def info_display(self):\n",
    "        super().info_display()\n",
    "        print(\"Training is one of the departments in EduBridge. Duration of training period is 6 months.\")\n",
    "class Placement(EduBridge):\n",
    "    def info_display(self):\n",
    "        print(\"Placement duration starts after training period.\")\n",
    "        \n",
    "        \n",
    "df = Training()\n",
    "df.info_display()\n",
    "        \n",
    "#Method overriding can be achieved using Inheritance and super() function."
   ]
  },
  {
   "cell_type": "code",
   "execution_count": null,
   "id": "4991391e-b142-4825-9caf-72ad0b436607",
   "metadata": {},
   "outputs": [],
   "source": []
  },
  {
   "cell_type": "code",
   "execution_count": null,
   "id": "d9c143d3-0bcc-4071-928c-ee672bfbad70",
   "metadata": {},
   "outputs": [],
   "source": []
  },
  {
   "cell_type": "code",
   "execution_count": null,
   "id": "23a93e83-3a33-41a2-8f26-a40247bceaef",
   "metadata": {},
   "outputs": [],
   "source": []
  }
 ],
 "metadata": {
  "kernelspec": {
   "display_name": "Python 3 (ipykernel)",
   "language": "python",
   "name": "python3"
  },
  "language_info": {
   "codemirror_mode": {
    "name": "ipython",
    "version": 3
   },
   "file_extension": ".py",
   "mimetype": "text/x-python",
   "name": "python",
   "nbconvert_exporter": "python",
   "pygments_lexer": "ipython3",
   "version": "3.12.4"
  }
 },
 "nbformat": 4,
 "nbformat_minor": 5
}
